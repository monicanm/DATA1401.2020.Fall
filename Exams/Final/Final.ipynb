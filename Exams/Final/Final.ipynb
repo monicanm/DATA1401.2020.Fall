{
  "nbformat": 4,
  "nbformat_minor": 0,
  "metadata": {
    "kernelspec": {
      "display_name": "Python 3",
      "language": "python",
      "name": "python3"
    },
    "language_info": {
      "codemirror_mode": {
        "name": "ipython",
        "version": 3
      },
      "file_extension": ".py",
      "mimetype": "text/x-python",
      "name": "python",
      "nbconvert_exporter": "python",
      "pygments_lexer": "ipython3",
      "version": "3.8.0"
    },
    "colab": {
      "name": "Final.ipynb",
      "provenance": [],
      "collapsed_sections": []
    }
  },
  "cells": [
    {
      "cell_type": "markdown",
      "metadata": {
        "id": "IqKNwq6NSUIl"
      },
      "source": [
        "# Final Exam\n",
        "\n",
        "[![Open In Colab](https://colab.research.google.com/assets/colab-badge.svg)](https://colab.research.google.com/github//monicanm/DATA1401-Spring-2020/blob/master/Exams/Final/Final.ipynb)\n",
        "\n",
        "We will be using the [John Hopkins COVID 19 Repository](https://github.com/CSSEGISandData/COVID-19) for our final."
      ]
    },
    {
      "cell_type": "markdown",
      "metadata": {
        "id": "D77Kem7rSUIt"
      },
      "source": [
        "**Question 1**: GIT isn't the optimal place for storing data, but nonetheless it often gets used in this way. The [John Hopkins COVID 19 Repository](https://github.com/CSSEGISandData/COVID-19) is about 1 GB of data, which is rather large. A GIT repository potentially keeps several copies of the same data. The following commands will clone the repository and remove the additional copies, leaving about 300 MB of data: "
      ]
    },
    {
      "cell_type": "code",
      "metadata": {
        "id": "InnZPOVuMSMY"
      },
      "source": [
        "import pandas as pd\n",
        "import numpy as np\n",
        "import matplotlib.pyplot as plt\n",
        "%matplotlib inline"
      ],
      "execution_count": 548,
      "outputs": []
    },
    {
      "cell_type": "code",
      "metadata": {
        "id": "g0i_BdN6SUIu",
        "colab": {
          "base_uri": "https://localhost:8080/"
        },
        "outputId": "04cac2dd-4922-4d7d-8040-8a23e2e24559"
      },
      "source": [
        "!git clone https://github.com/CSSEGISandData/COVID-19.git\n",
        "!rm -rf COVID-19/.git"
      ],
      "execution_count": 571,
      "outputs": [
        {
          "output_type": "stream",
          "text": [
            "fatal: destination path 'COVID-19' already exists and is not an empty directory.\n"
          ],
          "name": "stdout"
        }
      ]
    },
    {
      "cell_type": "markdown",
      "metadata": {
        "id": "_OV4oGztSUIv"
      },
      "source": [
        "Technically, you only need to perform this operation once. But since you are working on Google Colab, the data will be lost between sessions, unless you copy the data into your Google Drive. Download the data and copy it into your Google Drive, then comment the cell above so you don't download the data again next time you run the notebook. Note that once you copy the data, the path (location on the file system) with be different that what is assumed in the rest of this notebook. Update the following variable to reflect the change in location of the data:"
      ]
    },
    {
      "cell_type": "code",
      "metadata": {
        "id": "j1XkzKANSUIv"
      },
      "source": [
        "data_path=\"./COVID-19/\""
      ],
      "execution_count": 550,
      "outputs": []
    },
    {
      "cell_type": "code",
      "metadata": {
        "id": "9yeuIo5aSUIw",
        "colab": {
          "base_uri": "https://localhost:8080/",
          "height": 36
        },
        "outputId": "1c2b065b-a2f7-431a-c2e7-349b15e6878b"
      },
      "source": [
        "data_path"
      ],
      "execution_count": 572,
      "outputs": [
        {
          "output_type": "execute_result",
          "data": {
            "application/vnd.google.colaboratory.intrinsic+json": {
              "type": "string"
            },
            "text/plain": [
              "'./COVID-19/'"
            ]
          },
          "metadata": {
            "tags": []
          },
          "execution_count": 572
        }
      ]
    },
    {
      "cell_type": "markdown",
      "metadata": {
        "id": "ruuVoqF4SUIw"
      },
      "source": [
        "**Question 2**: Look through [JHU CSSE COVID-19 Dataset](https://github.com/CSSEGISandData/COVID-19/tree/master/csse_covid_19_data) page to get an understanding of the contents of the dataset. You will find daily world reports:"
      ]
    },
    {
      "cell_type": "code",
      "metadata": {
        "id": "YnVEVnItSUIx",
        "colab": {
          "base_uri": "https://localhost:8080/"
        },
        "outputId": "959c9701-7b6b-499f-b4a5-87f2f4097c21"
      },
      "source": [
        "!ls $data_path/csse_covid_19_data/csse_covid_19_daily_reports"
      ],
      "execution_count": 573,
      "outputs": [
        {
          "output_type": "stream",
          "text": [
            "01-22-2020.csv\t03-29-2020.csv\t06-04-2020.csv\t08-10-2020.csv\t10-16-2020.csv\n",
            "01-23-2020.csv\t03-30-2020.csv\t06-05-2020.csv\t08-11-2020.csv\t10-17-2020.csv\n",
            "01-24-2020.csv\t03-31-2020.csv\t06-06-2020.csv\t08-12-2020.csv\t10-18-2020.csv\n",
            "01-25-2020.csv\t04-01-2020.csv\t06-07-2020.csv\t08-13-2020.csv\t10-19-2020.csv\n",
            "01-26-2020.csv\t04-02-2020.csv\t06-08-2020.csv\t08-14-2020.csv\t10-20-2020.csv\n",
            "01-27-2020.csv\t04-03-2020.csv\t06-09-2020.csv\t08-15-2020.csv\t10-21-2020.csv\n",
            "01-28-2020.csv\t04-04-2020.csv\t06-10-2020.csv\t08-16-2020.csv\t10-22-2020.csv\n",
            "01-29-2020.csv\t04-05-2020.csv\t06-11-2020.csv\t08-17-2020.csv\t10-23-2020.csv\n",
            "01-30-2020.csv\t04-06-2020.csv\t06-12-2020.csv\t08-18-2020.csv\t10-24-2020.csv\n",
            "01-31-2020.csv\t04-07-2020.csv\t06-13-2020.csv\t08-19-2020.csv\t10-25-2020.csv\n",
            "02-01-2020.csv\t04-08-2020.csv\t06-14-2020.csv\t08-20-2020.csv\t10-26-2020.csv\n",
            "02-02-2020.csv\t04-09-2020.csv\t06-15-2020.csv\t08-21-2020.csv\t10-27-2020.csv\n",
            "02-03-2020.csv\t04-10-2020.csv\t06-16-2020.csv\t08-22-2020.csv\t10-28-2020.csv\n",
            "02-04-2020.csv\t04-11-2020.csv\t06-17-2020.csv\t08-23-2020.csv\t10-29-2020.csv\n",
            "02-05-2020.csv\t04-12-2020.csv\t06-18-2020.csv\t08-24-2020.csv\t10-30-2020.csv\n",
            "02-06-2020.csv\t04-13-2020.csv\t06-19-2020.csv\t08-25-2020.csv\t10-31-2020.csv\n",
            "02-07-2020.csv\t04-14-2020.csv\t06-20-2020.csv\t08-26-2020.csv\t11-01-2020.csv\n",
            "02-08-2020.csv\t04-15-2020.csv\t06-21-2020.csv\t08-27-2020.csv\t11-02-2020.csv\n",
            "02-09-2020.csv\t04-16-2020.csv\t06-22-2020.csv\t08-28-2020.csv\t11-03-2020.csv\n",
            "02-10-2020.csv\t04-17-2020.csv\t06-23-2020.csv\t08-29-2020.csv\t11-04-2020.csv\n",
            "02-11-2020.csv\t04-18-2020.csv\t06-24-2020.csv\t08-30-2020.csv\t11-05-2020.csv\n",
            "02-12-2020.csv\t04-19-2020.csv\t06-25-2020.csv\t08-31-2020.csv\t11-06-2020.csv\n",
            "02-13-2020.csv\t04-20-2020.csv\t06-26-2020.csv\t09-01-2020.csv\t11-07-2020.csv\n",
            "02-14-2020.csv\t04-21-2020.csv\t06-27-2020.csv\t09-02-2020.csv\t11-08-2020.csv\n",
            "02-15-2020.csv\t04-22-2020.csv\t06-28-2020.csv\t09-03-2020.csv\t11-09-2020.csv\n",
            "02-16-2020.csv\t04-23-2020.csv\t06-29-2020.csv\t09-04-2020.csv\t11-10-2020.csv\n",
            "02-17-2020.csv\t04-24-2020.csv\t06-30-2020.csv\t09-05-2020.csv\t11-11-2020.csv\n",
            "02-18-2020.csv\t04-25-2020.csv\t07-01-2020.csv\t09-06-2020.csv\t11-12-2020.csv\n",
            "02-19-2020.csv\t04-26-2020.csv\t07-02-2020.csv\t09-07-2020.csv\t11-13-2020.csv\n",
            "02-20-2020.csv\t04-27-2020.csv\t07-03-2020.csv\t09-08-2020.csv\t11-14-2020.csv\n",
            "02-21-2020.csv\t04-28-2020.csv\t07-04-2020.csv\t09-09-2020.csv\t11-15-2020.csv\n",
            "02-22-2020.csv\t04-29-2020.csv\t07-05-2020.csv\t09-10-2020.csv\t11-16-2020.csv\n",
            "02-23-2020.csv\t04-30-2020.csv\t07-06-2020.csv\t09-11-2020.csv\t11-17-2020.csv\n",
            "02-24-2020.csv\t05-01-2020.csv\t07-07-2020.csv\t09-12-2020.csv\t11-18-2020.csv\n",
            "02-25-2020.csv\t05-02-2020.csv\t07-08-2020.csv\t09-13-2020.csv\t11-19-2020.csv\n",
            "02-26-2020.csv\t05-03-2020.csv\t07-09-2020.csv\t09-14-2020.csv\t11-20-2020.csv\n",
            "02-27-2020.csv\t05-04-2020.csv\t07-10-2020.csv\t09-15-2020.csv\t11-21-2020.csv\n",
            "02-28-2020.csv\t05-05-2020.csv\t07-11-2020.csv\t09-16-2020.csv\t11-22-2020.csv\n",
            "02-29-2020.csv\t05-06-2020.csv\t07-12-2020.csv\t09-17-2020.csv\t11-23-2020.csv\n",
            "03-01-2020.csv\t05-07-2020.csv\t07-13-2020.csv\t09-18-2020.csv\t11-24-2020.csv\n",
            "03-02-2020.csv\t05-08-2020.csv\t07-14-2020.csv\t09-19-2020.csv\t11-25-2020.csv\n",
            "03-03-2020.csv\t05-09-2020.csv\t07-15-2020.csv\t09-20-2020.csv\t11-26-2020.csv\n",
            "03-04-2020.csv\t05-10-2020.csv\t07-16-2020.csv\t09-21-2020.csv\t11-27-2020.csv\n",
            "03-05-2020.csv\t05-11-2020.csv\t07-17-2020.csv\t09-22-2020.csv\t11-28-2020.csv\n",
            "03-06-2020.csv\t05-12-2020.csv\t07-18-2020.csv\t09-23-2020.csv\t11-29-2020.csv\n",
            "03-07-2020.csv\t05-13-2020.csv\t07-19-2020.csv\t09-24-2020.csv\t11-30-2020.csv\n",
            "03-08-2020.csv\t05-14-2020.csv\t07-20-2020.csv\t09-25-2020.csv\t12-01-2020.csv\n",
            "03-09-2020.csv\t05-15-2020.csv\t07-21-2020.csv\t09-26-2020.csv\t12-02-2020.csv\n",
            "03-10-2020.csv\t05-16-2020.csv\t07-22-2020.csv\t09-27-2020.csv\t12-03-2020.csv\n",
            "03-11-2020.csv\t05-17-2020.csv\t07-23-2020.csv\t09-28-2020.csv\t12-04-2020.csv\n",
            "03-12-2020.csv\t05-18-2020.csv\t07-24-2020.csv\t09-29-2020.csv\t12-05-2020.csv\n",
            "03-13-2020.csv\t05-19-2020.csv\t07-25-2020.csv\t09-30-2020.csv\t12-06-2020.csv\n",
            "03-14-2020.csv\t05-20-2020.csv\t07-26-2020.csv\t10-01-2020.csv\t12-07-2020.csv\n",
            "03-15-2020.csv\t05-21-2020.csv\t07-27-2020.csv\t10-02-2020.csv\t12-08-2020.csv\n",
            "03-16-2020.csv\t05-22-2020.csv\t07-28-2020.csv\t10-03-2020.csv\t12-09-2020.csv\n",
            "03-17-2020.csv\t05-23-2020.csv\t07-29-2020.csv\t10-04-2020.csv\t12-10-2020.csv\n",
            "03-18-2020.csv\t05-24-2020.csv\t07-30-2020.csv\t10-05-2020.csv\t12-11-2020.csv\n",
            "03-19-2020.csv\t05-25-2020.csv\t07-31-2020.csv\t10-06-2020.csv\t12-12-2020.csv\n",
            "03-20-2020.csv\t05-26-2020.csv\t08-01-2020.csv\t10-07-2020.csv\t12-13-2020.csv\n",
            "03-21-2020.csv\t05-27-2020.csv\t08-02-2020.csv\t10-08-2020.csv\t12-14-2020.csv\n",
            "03-22-2020.csv\t05-28-2020.csv\t08-03-2020.csv\t10-09-2020.csv\t12-15-2020.csv\n",
            "03-23-2020.csv\t05-29-2020.csv\t08-04-2020.csv\t10-10-2020.csv\t12-16-2020.csv\n",
            "03-24-2020.csv\t05-30-2020.csv\t08-05-2020.csv\t10-11-2020.csv\tREADME.md\n",
            "03-25-2020.csv\t05-31-2020.csv\t08-06-2020.csv\t10-12-2020.csv\n",
            "03-26-2020.csv\t06-01-2020.csv\t08-07-2020.csv\t10-13-2020.csv\n",
            "03-27-2020.csv\t06-02-2020.csv\t08-08-2020.csv\t10-14-2020.csv\n",
            "03-28-2020.csv\t06-03-2020.csv\t08-09-2020.csv\t10-15-2020.csv\n"
          ],
          "name": "stdout"
        }
      ]
    },
    {
      "cell_type": "markdown",
      "metadata": {
        "id": "o5HH34g9SUIx"
      },
      "source": [
        "You may get a python list of the these files using glob."
      ]
    },
    {
      "cell_type": "code",
      "metadata": {
        "id": "cQL2m-UbSUIx",
        "colab": {
          "base_uri": "https://localhost:8080/"
        },
        "outputId": "6317ca8c-1e18-4985-fb28-4b1013029c7b"
      },
      "source": [
        "import glob\n",
        "us_files=glob.glob(data_path+\"csse_covid_19_data/csse_covid_19_daily_reports_us/*.csv\")\n",
        "all_files=glob.glob(data_path+\"csse_covid_19_data/csse_covid_19_daily_reports/*.csv\")\n",
        "print(len(us_files),len(all_files))"
      ],
      "execution_count": 553,
      "outputs": [
        {
          "output_type": "stream",
          "text": [
            "249 330\n"
          ],
          "name": "stdout"
        }
      ]
    },
    {
      "cell_type": "code",
      "metadata": {
        "id": "jIzIl07Dc5Ow",
        "colab": {
          "base_uri": "https://localhost:8080/"
        },
        "outputId": "d7d5bcbb-b552-4419-e0de-a95dfc98b661"
      },
      "source": [
        "all_files"
      ],
      "execution_count": 574,
      "outputs": [
        {
          "output_type": "execute_result",
          "data": {
            "text/plain": [
              "['./COVID-19/csse_covid_19_data/csse_covid_19_daily_reports/05-23-2020.csv',\n",
              " './COVID-19/csse_covid_19_data/csse_covid_19_daily_reports/10-05-2020.csv',\n",
              " './COVID-19/csse_covid_19_data/csse_covid_19_daily_reports/09-05-2020.csv',\n",
              " './COVID-19/csse_covid_19_data/csse_covid_19_daily_reports/09-26-2020.csv',\n",
              " './COVID-19/csse_covid_19_data/csse_covid_19_daily_reports/02-21-2020.csv',\n",
              " './COVID-19/csse_covid_19_data/csse_covid_19_daily_reports/04-18-2020.csv',\n",
              " './COVID-19/csse_covid_19_data/csse_covid_19_daily_reports/10-22-2020.csv',\n",
              " './COVID-19/csse_covid_19_data/csse_covid_19_daily_reports/10-03-2020.csv',\n",
              " './COVID-19/csse_covid_19_data/csse_covid_19_daily_reports/09-12-2020.csv',\n",
              " './COVID-19/csse_covid_19_data/csse_covid_19_daily_reports/07-04-2020.csv',\n",
              " './COVID-19/csse_covid_19_data/csse_covid_19_daily_reports/12-05-2020.csv',\n",
              " './COVID-19/csse_covid_19_data/csse_covid_19_daily_reports/08-13-2020.csv',\n",
              " './COVID-19/csse_covid_19_data/csse_covid_19_daily_reports/10-28-2020.csv',\n",
              " './COVID-19/csse_covid_19_data/csse_covid_19_daily_reports/10-07-2020.csv',\n",
              " './COVID-19/csse_covid_19_data/csse_covid_19_daily_reports/08-23-2020.csv',\n",
              " './COVID-19/csse_covid_19_data/csse_covid_19_daily_reports/03-03-2020.csv',\n",
              " './COVID-19/csse_covid_19_data/csse_covid_19_daily_reports/03-22-2020.csv',\n",
              " './COVID-19/csse_covid_19_data/csse_covid_19_daily_reports/03-12-2020.csv',\n",
              " './COVID-19/csse_covid_19_data/csse_covid_19_daily_reports/11-10-2020.csv',\n",
              " './COVID-19/csse_covid_19_data/csse_covid_19_daily_reports/03-04-2020.csv',\n",
              " './COVID-19/csse_covid_19_data/csse_covid_19_daily_reports/10-15-2020.csv',\n",
              " './COVID-19/csse_covid_19_data/csse_covid_19_daily_reports/05-30-2020.csv',\n",
              " './COVID-19/csse_covid_19_data/csse_covid_19_daily_reports/09-11-2020.csv',\n",
              " './COVID-19/csse_covid_19_data/csse_covid_19_daily_reports/03-14-2020.csv',\n",
              " './COVID-19/csse_covid_19_data/csse_covid_19_daily_reports/05-07-2020.csv',\n",
              " './COVID-19/csse_covid_19_data/csse_covid_19_daily_reports/02-03-2020.csv',\n",
              " './COVID-19/csse_covid_19_data/csse_covid_19_daily_reports/07-07-2020.csv',\n",
              " './COVID-19/csse_covid_19_data/csse_covid_19_daily_reports/06-27-2020.csv',\n",
              " './COVID-19/csse_covid_19_data/csse_covid_19_daily_reports/08-21-2020.csv',\n",
              " './COVID-19/csse_covid_19_data/csse_covid_19_daily_reports/09-20-2020.csv',\n",
              " './COVID-19/csse_covid_19_data/csse_covid_19_daily_reports/09-08-2020.csv',\n",
              " './COVID-19/csse_covid_19_data/csse_covid_19_daily_reports/05-04-2020.csv',\n",
              " './COVID-19/csse_covid_19_data/csse_covid_19_daily_reports/04-07-2020.csv',\n",
              " './COVID-19/csse_covid_19_data/csse_covid_19_daily_reports/03-13-2020.csv',\n",
              " './COVID-19/csse_covid_19_data/csse_covid_19_daily_reports/05-11-2020.csv',\n",
              " './COVID-19/csse_covid_19_data/csse_covid_19_daily_reports/04-30-2020.csv',\n",
              " './COVID-19/csse_covid_19_data/csse_covid_19_daily_reports/08-24-2020.csv',\n",
              " './COVID-19/csse_covid_19_data/csse_covid_19_daily_reports/05-18-2020.csv',\n",
              " './COVID-19/csse_covid_19_data/csse_covid_19_daily_reports/01-22-2020.csv',\n",
              " './COVID-19/csse_covid_19_data/csse_covid_19_daily_reports/07-24-2020.csv',\n",
              " './COVID-19/csse_covid_19_data/csse_covid_19_daily_reports/07-21-2020.csv',\n",
              " './COVID-19/csse_covid_19_data/csse_covid_19_daily_reports/04-14-2020.csv',\n",
              " './COVID-19/csse_covid_19_data/csse_covid_19_daily_reports/01-29-2020.csv',\n",
              " './COVID-19/csse_covid_19_data/csse_covid_19_daily_reports/11-20-2020.csv',\n",
              " './COVID-19/csse_covid_19_data/csse_covid_19_daily_reports/11-26-2020.csv',\n",
              " './COVID-19/csse_covid_19_data/csse_covid_19_daily_reports/02-12-2020.csv',\n",
              " './COVID-19/csse_covid_19_data/csse_covid_19_daily_reports/06-13-2020.csv',\n",
              " './COVID-19/csse_covid_19_data/csse_covid_19_daily_reports/05-10-2020.csv',\n",
              " './COVID-19/csse_covid_19_data/csse_covid_19_daily_reports/10-10-2020.csv',\n",
              " './COVID-19/csse_covid_19_data/csse_covid_19_daily_reports/06-18-2020.csv',\n",
              " './COVID-19/csse_covid_19_data/csse_covid_19_daily_reports/08-04-2020.csv',\n",
              " './COVID-19/csse_covid_19_data/csse_covid_19_daily_reports/04-15-2020.csv',\n",
              " './COVID-19/csse_covid_19_data/csse_covid_19_daily_reports/05-15-2020.csv',\n",
              " './COVID-19/csse_covid_19_data/csse_covid_19_daily_reports/05-03-2020.csv',\n",
              " './COVID-19/csse_covid_19_data/csse_covid_19_daily_reports/01-31-2020.csv',\n",
              " './COVID-19/csse_covid_19_data/csse_covid_19_daily_reports/12-04-2020.csv',\n",
              " './COVID-19/csse_covid_19_data/csse_covid_19_daily_reports/07-14-2020.csv',\n",
              " './COVID-19/csse_covid_19_data/csse_covid_19_daily_reports/04-13-2020.csv',\n",
              " './COVID-19/csse_covid_19_data/csse_covid_19_daily_reports/06-17-2020.csv',\n",
              " './COVID-19/csse_covid_19_data/csse_covid_19_daily_reports/10-25-2020.csv',\n",
              " './COVID-19/csse_covid_19_data/csse_covid_19_daily_reports/05-26-2020.csv',\n",
              " './COVID-19/csse_covid_19_data/csse_covid_19_daily_reports/02-22-2020.csv',\n",
              " './COVID-19/csse_covid_19_data/csse_covid_19_daily_reports/12-14-2020.csv',\n",
              " './COVID-19/csse_covid_19_data/csse_covid_19_daily_reports/06-08-2020.csv',\n",
              " './COVID-19/csse_covid_19_data/csse_covid_19_daily_reports/02-08-2020.csv',\n",
              " './COVID-19/csse_covid_19_data/csse_covid_19_daily_reports/03-29-2020.csv',\n",
              " './COVID-19/csse_covid_19_data/csse_covid_19_daily_reports/11-07-2020.csv',\n",
              " './COVID-19/csse_covid_19_data/csse_covid_19_daily_reports/03-30-2020.csv',\n",
              " './COVID-19/csse_covid_19_data/csse_covid_19_daily_reports/09-16-2020.csv',\n",
              " './COVID-19/csse_covid_19_data/csse_covid_19_daily_reports/03-05-2020.csv',\n",
              " './COVID-19/csse_covid_19_data/csse_covid_19_daily_reports/11-16-2020.csv',\n",
              " './COVID-19/csse_covid_19_data/csse_covid_19_daily_reports/12-02-2020.csv',\n",
              " './COVID-19/csse_covid_19_data/csse_covid_19_daily_reports/05-14-2020.csv',\n",
              " './COVID-19/csse_covid_19_data/csse_covid_19_daily_reports/04-26-2020.csv',\n",
              " './COVID-19/csse_covid_19_data/csse_covid_19_daily_reports/09-18-2020.csv',\n",
              " './COVID-19/csse_covid_19_data/csse_covid_19_daily_reports/11-30-2020.csv',\n",
              " './COVID-19/csse_covid_19_data/csse_covid_19_daily_reports/08-03-2020.csv',\n",
              " './COVID-19/csse_covid_19_data/csse_covid_19_daily_reports/04-29-2020.csv',\n",
              " './COVID-19/csse_covid_19_data/csse_covid_19_daily_reports/02-26-2020.csv',\n",
              " './COVID-19/csse_covid_19_data/csse_covid_19_daily_reports/10-12-2020.csv',\n",
              " './COVID-19/csse_covid_19_data/csse_covid_19_daily_reports/08-10-2020.csv',\n",
              " './COVID-19/csse_covid_19_data/csse_covid_19_daily_reports/02-16-2020.csv',\n",
              " './COVID-19/csse_covid_19_data/csse_covid_19_daily_reports/10-21-2020.csv',\n",
              " './COVID-19/csse_covid_19_data/csse_covid_19_daily_reports/05-08-2020.csv',\n",
              " './COVID-19/csse_covid_19_data/csse_covid_19_daily_reports/10-08-2020.csv',\n",
              " './COVID-19/csse_covid_19_data/csse_covid_19_daily_reports/09-09-2020.csv',\n",
              " './COVID-19/csse_covid_19_data/csse_covid_19_daily_reports/05-12-2020.csv',\n",
              " './COVID-19/csse_covid_19_data/csse_covid_19_daily_reports/07-20-2020.csv',\n",
              " './COVID-19/csse_covid_19_data/csse_covid_19_daily_reports/05-05-2020.csv',\n",
              " './COVID-19/csse_covid_19_data/csse_covid_19_daily_reports/09-23-2020.csv',\n",
              " './COVID-19/csse_covid_19_data/csse_covid_19_daily_reports/06-22-2020.csv',\n",
              " './COVID-19/csse_covid_19_data/csse_covid_19_daily_reports/02-27-2020.csv',\n",
              " './COVID-19/csse_covid_19_data/csse_covid_19_daily_reports/02-28-2020.csv',\n",
              " './COVID-19/csse_covid_19_data/csse_covid_19_daily_reports/06-26-2020.csv',\n",
              " './COVID-19/csse_covid_19_data/csse_covid_19_daily_reports/11-17-2020.csv',\n",
              " './COVID-19/csse_covid_19_data/csse_covid_19_daily_reports/10-13-2020.csv',\n",
              " './COVID-19/csse_covid_19_data/csse_covid_19_daily_reports/02-29-2020.csv',\n",
              " './COVID-19/csse_covid_19_data/csse_covid_19_daily_reports/03-26-2020.csv',\n",
              " './COVID-19/csse_covid_19_data/csse_covid_19_daily_reports/02-20-2020.csv',\n",
              " './COVID-19/csse_covid_19_data/csse_covid_19_daily_reports/04-17-2020.csv',\n",
              " './COVID-19/csse_covid_19_data/csse_covid_19_daily_reports/07-30-2020.csv',\n",
              " './COVID-19/csse_covid_19_data/csse_covid_19_daily_reports/06-01-2020.csv',\n",
              " './COVID-19/csse_covid_19_data/csse_covid_19_daily_reports/10-24-2020.csv',\n",
              " './COVID-19/csse_covid_19_data/csse_covid_19_daily_reports/03-27-2020.csv',\n",
              " './COVID-19/csse_covid_19_data/csse_covid_19_daily_reports/12-07-2020.csv',\n",
              " './COVID-19/csse_covid_19_data/csse_covid_19_daily_reports/11-28-2020.csv',\n",
              " './COVID-19/csse_covid_19_data/csse_covid_19_daily_reports/06-30-2020.csv',\n",
              " './COVID-19/csse_covid_19_data/csse_covid_19_daily_reports/11-08-2020.csv',\n",
              " './COVID-19/csse_covid_19_data/csse_covid_19_daily_reports/11-05-2020.csv',\n",
              " './COVID-19/csse_covid_19_data/csse_covid_19_daily_reports/11-21-2020.csv',\n",
              " './COVID-19/csse_covid_19_data/csse_covid_19_daily_reports/09-27-2020.csv',\n",
              " './COVID-19/csse_covid_19_data/csse_covid_19_daily_reports/08-18-2020.csv',\n",
              " './COVID-19/csse_covid_19_data/csse_covid_19_daily_reports/05-16-2020.csv',\n",
              " './COVID-19/csse_covid_19_data/csse_covid_19_daily_reports/02-04-2020.csv',\n",
              " './COVID-19/csse_covid_19_data/csse_covid_19_daily_reports/06-06-2020.csv',\n",
              " './COVID-19/csse_covid_19_data/csse_covid_19_daily_reports/09-06-2020.csv',\n",
              " './COVID-19/csse_covid_19_data/csse_covid_19_daily_reports/07-15-2020.csv',\n",
              " './COVID-19/csse_covid_19_data/csse_covid_19_daily_reports/09-28-2020.csv',\n",
              " './COVID-19/csse_covid_19_data/csse_covid_19_daily_reports/04-11-2020.csv',\n",
              " './COVID-19/csse_covid_19_data/csse_covid_19_daily_reports/08-07-2020.csv',\n",
              " './COVID-19/csse_covid_19_data/csse_covid_19_daily_reports/08-08-2020.csv',\n",
              " './COVID-19/csse_covid_19_data/csse_covid_19_daily_reports/09-29-2020.csv',\n",
              " './COVID-19/csse_covid_19_data/csse_covid_19_daily_reports/03-21-2020.csv',\n",
              " './COVID-19/csse_covid_19_data/csse_covid_19_daily_reports/08-05-2020.csv',\n",
              " './COVID-19/csse_covid_19_data/csse_covid_19_daily_reports/06-11-2020.csv',\n",
              " './COVID-19/csse_covid_19_data/csse_covid_19_daily_reports/08-30-2020.csv',\n",
              " './COVID-19/csse_covid_19_data/csse_covid_19_daily_reports/06-12-2020.csv',\n",
              " './COVID-19/csse_covid_19_data/csse_covid_19_daily_reports/03-31-2020.csv',\n",
              " './COVID-19/csse_covid_19_data/csse_covid_19_daily_reports/02-18-2020.csv',\n",
              " './COVID-19/csse_covid_19_data/csse_covid_19_daily_reports/04-21-2020.csv',\n",
              " './COVID-19/csse_covid_19_data/csse_covid_19_daily_reports/07-02-2020.csv',\n",
              " './COVID-19/csse_covid_19_data/csse_covid_19_daily_reports/08-12-2020.csv',\n",
              " './COVID-19/csse_covid_19_data/csse_covid_19_daily_reports/07-09-2020.csv',\n",
              " './COVID-19/csse_covid_19_data/csse_covid_19_daily_reports/11-03-2020.csv',\n",
              " './COVID-19/csse_covid_19_data/csse_covid_19_daily_reports/02-01-2020.csv',\n",
              " './COVID-19/csse_covid_19_data/csse_covid_19_daily_reports/09-17-2020.csv',\n",
              " './COVID-19/csse_covid_19_data/csse_covid_19_daily_reports/08-25-2020.csv',\n",
              " './COVID-19/csse_covid_19_data/csse_covid_19_daily_reports/11-29-2020.csv',\n",
              " './COVID-19/csse_covid_19_data/csse_covid_19_daily_reports/08-14-2020.csv',\n",
              " './COVID-19/csse_covid_19_data/csse_covid_19_daily_reports/09-22-2020.csv',\n",
              " './COVID-19/csse_covid_19_data/csse_covid_19_daily_reports/11-15-2020.csv',\n",
              " './COVID-19/csse_covid_19_data/csse_covid_19_daily_reports/08-22-2020.csv',\n",
              " './COVID-19/csse_covid_19_data/csse_covid_19_daily_reports/04-10-2020.csv',\n",
              " './COVID-19/csse_covid_19_data/csse_covid_19_daily_reports/10-18-2020.csv',\n",
              " './COVID-19/csse_covid_19_data/csse_covid_19_daily_reports/03-11-2020.csv',\n",
              " './COVID-19/csse_covid_19_data/csse_covid_19_daily_reports/07-28-2020.csv',\n",
              " './COVID-19/csse_covid_19_data/csse_covid_19_daily_reports/11-06-2020.csv',\n",
              " './COVID-19/csse_covid_19_data/csse_covid_19_daily_reports/07-01-2020.csv',\n",
              " './COVID-19/csse_covid_19_data/csse_covid_19_daily_reports/05-24-2020.csv',\n",
              " './COVID-19/csse_covid_19_data/csse_covid_19_daily_reports/10-11-2020.csv',\n",
              " './COVID-19/csse_covid_19_data/csse_covid_19_daily_reports/05-20-2020.csv',\n",
              " './COVID-19/csse_covid_19_data/csse_covid_19_daily_reports/09-03-2020.csv',\n",
              " './COVID-19/csse_covid_19_data/csse_covid_19_daily_reports/09-01-2020.csv',\n",
              " './COVID-19/csse_covid_19_data/csse_covid_19_daily_reports/07-25-2020.csv',\n",
              " './COVID-19/csse_covid_19_data/csse_covid_19_daily_reports/10-04-2020.csv',\n",
              " './COVID-19/csse_covid_19_data/csse_covid_19_daily_reports/06-10-2020.csv',\n",
              " './COVID-19/csse_covid_19_data/csse_covid_19_daily_reports/11-22-2020.csv',\n",
              " './COVID-19/csse_covid_19_data/csse_covid_19_daily_reports/11-19-2020.csv',\n",
              " './COVID-19/csse_covid_19_data/csse_covid_19_daily_reports/06-15-2020.csv',\n",
              " './COVID-19/csse_covid_19_data/csse_covid_19_daily_reports/01-26-2020.csv',\n",
              " './COVID-19/csse_covid_19_data/csse_covid_19_daily_reports/02-11-2020.csv',\n",
              " './COVID-19/csse_covid_19_data/csse_covid_19_daily_reports/06-21-2020.csv',\n",
              " './COVID-19/csse_covid_19_data/csse_covid_19_daily_reports/12-13-2020.csv',\n",
              " './COVID-19/csse_covid_19_data/csse_covid_19_daily_reports/01-25-2020.csv',\n",
              " './COVID-19/csse_covid_19_data/csse_covid_19_daily_reports/04-24-2020.csv',\n",
              " './COVID-19/csse_covid_19_data/csse_covid_19_daily_reports/07-19-2020.csv',\n",
              " './COVID-19/csse_covid_19_data/csse_covid_19_daily_reports/02-06-2020.csv',\n",
              " './COVID-19/csse_covid_19_data/csse_covid_19_daily_reports/04-08-2020.csv',\n",
              " './COVID-19/csse_covid_19_data/csse_covid_19_daily_reports/05-06-2020.csv',\n",
              " './COVID-19/csse_covid_19_data/csse_covid_19_daily_reports/10-27-2020.csv',\n",
              " './COVID-19/csse_covid_19_data/csse_covid_19_daily_reports/09-02-2020.csv',\n",
              " './COVID-19/csse_covid_19_data/csse_covid_19_daily_reports/04-25-2020.csv',\n",
              " './COVID-19/csse_covid_19_data/csse_covid_19_daily_reports/10-30-2020.csv',\n",
              " './COVID-19/csse_covid_19_data/csse_covid_19_daily_reports/02-14-2020.csv',\n",
              " './COVID-19/csse_covid_19_data/csse_covid_19_daily_reports/04-22-2020.csv',\n",
              " './COVID-19/csse_covid_19_data/csse_covid_19_daily_reports/10-02-2020.csv',\n",
              " './COVID-19/csse_covid_19_data/csse_covid_19_daily_reports/05-19-2020.csv',\n",
              " './COVID-19/csse_covid_19_data/csse_covid_19_daily_reports/04-03-2020.csv',\n",
              " './COVID-19/csse_covid_19_data/csse_covid_19_daily_reports/02-13-2020.csv',\n",
              " './COVID-19/csse_covid_19_data/csse_covid_19_daily_reports/10-01-2020.csv',\n",
              " './COVID-19/csse_covid_19_data/csse_covid_19_daily_reports/02-07-2020.csv',\n",
              " './COVID-19/csse_covid_19_data/csse_covid_19_daily_reports/11-11-2020.csv',\n",
              " './COVID-19/csse_covid_19_data/csse_covid_19_daily_reports/02-15-2020.csv',\n",
              " './COVID-19/csse_covid_19_data/csse_covid_19_daily_reports/11-24-2020.csv',\n",
              " './COVID-19/csse_covid_19_data/csse_covid_19_daily_reports/05-09-2020.csv',\n",
              " './COVID-19/csse_covid_19_data/csse_covid_19_daily_reports/08-20-2020.csv',\n",
              " './COVID-19/csse_covid_19_data/csse_covid_19_daily_reports/02-17-2020.csv',\n",
              " './COVID-19/csse_covid_19_data/csse_covid_19_daily_reports/03-06-2020.csv',\n",
              " './COVID-19/csse_covid_19_data/csse_covid_19_daily_reports/05-13-2020.csv',\n",
              " './COVID-19/csse_covid_19_data/csse_covid_19_daily_reports/11-12-2020.csv',\n",
              " './COVID-19/csse_covid_19_data/csse_covid_19_daily_reports/08-28-2020.csv',\n",
              " './COVID-19/csse_covid_19_data/csse_covid_19_daily_reports/07-03-2020.csv',\n",
              " './COVID-19/csse_covid_19_data/csse_covid_19_daily_reports/12-11-2020.csv',\n",
              " './COVID-19/csse_covid_19_data/csse_covid_19_daily_reports/06-16-2020.csv',\n",
              " './COVID-19/csse_covid_19_data/csse_covid_19_daily_reports/04-16-2020.csv',\n",
              " './COVID-19/csse_covid_19_data/csse_covid_19_daily_reports/08-02-2020.csv',\n",
              " './COVID-19/csse_covid_19_data/csse_covid_19_daily_reports/05-25-2020.csv',\n",
              " './COVID-19/csse_covid_19_data/csse_covid_19_daily_reports/05-22-2020.csv',\n",
              " './COVID-19/csse_covid_19_data/csse_covid_19_daily_reports/02-24-2020.csv',\n",
              " './COVID-19/csse_covid_19_data/csse_covid_19_daily_reports/12-01-2020.csv',\n",
              " './COVID-19/csse_covid_19_data/csse_covid_19_daily_reports/12-10-2020.csv',\n",
              " './COVID-19/csse_covid_19_data/csse_covid_19_daily_reports/02-10-2020.csv',\n",
              " './COVID-19/csse_covid_19_data/csse_covid_19_daily_reports/06-03-2020.csv',\n",
              " './COVID-19/csse_covid_19_data/csse_covid_19_daily_reports/10-26-2020.csv',\n",
              " './COVID-19/csse_covid_19_data/csse_covid_19_daily_reports/03-10-2020.csv',\n",
              " './COVID-19/csse_covid_19_data/csse_covid_19_daily_reports/04-09-2020.csv',\n",
              " './COVID-19/csse_covid_19_data/csse_covid_19_daily_reports/09-13-2020.csv',\n",
              " './COVID-19/csse_covid_19_data/csse_covid_19_daily_reports/02-19-2020.csv',\n",
              " './COVID-19/csse_covid_19_data/csse_covid_19_daily_reports/05-17-2020.csv',\n",
              " './COVID-19/csse_covid_19_data/csse_covid_19_daily_reports/07-10-2020.csv',\n",
              " './COVID-19/csse_covid_19_data/csse_covid_19_daily_reports/05-27-2020.csv',\n",
              " './COVID-19/csse_covid_19_data/csse_covid_19_daily_reports/03-02-2020.csv',\n",
              " './COVID-19/csse_covid_19_data/csse_covid_19_daily_reports/02-05-2020.csv',\n",
              " './COVID-19/csse_covid_19_data/csse_covid_19_daily_reports/02-23-2020.csv',\n",
              " './COVID-19/csse_covid_19_data/csse_covid_19_daily_reports/01-27-2020.csv',\n",
              " './COVID-19/csse_covid_19_data/csse_covid_19_daily_reports/06-07-2020.csv',\n",
              " './COVID-19/csse_covid_19_data/csse_covid_19_daily_reports/08-29-2020.csv',\n",
              " './COVID-19/csse_covid_19_data/csse_covid_19_daily_reports/01-28-2020.csv',\n",
              " './COVID-19/csse_covid_19_data/csse_covid_19_daily_reports/12-16-2020.csv',\n",
              " './COVID-19/csse_covid_19_data/csse_covid_19_daily_reports/09-14-2020.csv',\n",
              " './COVID-19/csse_covid_19_data/csse_covid_19_daily_reports/03-09-2020.csv',\n",
              " './COVID-19/csse_covid_19_data/csse_covid_19_daily_reports/07-26-2020.csv',\n",
              " './COVID-19/csse_covid_19_data/csse_covid_19_daily_reports/10-31-2020.csv',\n",
              " './COVID-19/csse_covid_19_data/csse_covid_19_daily_reports/01-23-2020.csv',\n",
              " './COVID-19/csse_covid_19_data/csse_covid_19_daily_reports/04-06-2020.csv',\n",
              " './COVID-19/csse_covid_19_data/csse_covid_19_daily_reports/03-15-2020.csv',\n",
              " './COVID-19/csse_covid_19_data/csse_covid_19_daily_reports/01-24-2020.csv',\n",
              " './COVID-19/csse_covid_19_data/csse_covid_19_daily_reports/06-05-2020.csv',\n",
              " './COVID-19/csse_covid_19_data/csse_covid_19_daily_reports/05-28-2020.csv',\n",
              " './COVID-19/csse_covid_19_data/csse_covid_19_daily_reports/04-02-2020.csv',\n",
              " './COVID-19/csse_covid_19_data/csse_covid_19_daily_reports/05-02-2020.csv',\n",
              " './COVID-19/csse_covid_19_data/csse_covid_19_daily_reports/03-01-2020.csv',\n",
              " './COVID-19/csse_covid_19_data/csse_covid_19_daily_reports/11-13-2020.csv',\n",
              " './COVID-19/csse_covid_19_data/csse_covid_19_daily_reports/09-19-2020.csv',\n",
              " './COVID-19/csse_covid_19_data/csse_covid_19_daily_reports/02-02-2020.csv',\n",
              " './COVID-19/csse_covid_19_data/csse_covid_19_daily_reports/03-25-2020.csv',\n",
              " './COVID-19/csse_covid_19_data/csse_covid_19_daily_reports/09-04-2020.csv',\n",
              " './COVID-19/csse_covid_19_data/csse_covid_19_daily_reports/11-25-2020.csv',\n",
              " './COVID-19/csse_covid_19_data/csse_covid_19_daily_reports/09-15-2020.csv',\n",
              " './COVID-19/csse_covid_19_data/csse_covid_19_daily_reports/03-19-2020.csv',\n",
              " './COVID-19/csse_covid_19_data/csse_covid_19_daily_reports/10-23-2020.csv',\n",
              " './COVID-19/csse_covid_19_data/csse_covid_19_daily_reports/08-31-2020.csv',\n",
              " './COVID-19/csse_covid_19_data/csse_covid_19_daily_reports/06-04-2020.csv',\n",
              " './COVID-19/csse_covid_19_data/csse_covid_19_daily_reports/12-15-2020.csv',\n",
              " './COVID-19/csse_covid_19_data/csse_covid_19_daily_reports/04-05-2020.csv',\n",
              " './COVID-19/csse_covid_19_data/csse_covid_19_daily_reports/07-11-2020.csv',\n",
              " './COVID-19/csse_covid_19_data/csse_covid_19_daily_reports/05-29-2020.csv',\n",
              " './COVID-19/csse_covid_19_data/csse_covid_19_daily_reports/07-13-2020.csv',\n",
              " './COVID-19/csse_covid_19_data/csse_covid_19_daily_reports/07-31-2020.csv',\n",
              " './COVID-19/csse_covid_19_data/csse_covid_19_daily_reports/06-29-2020.csv',\n",
              " './COVID-19/csse_covid_19_data/csse_covid_19_daily_reports/08-11-2020.csv',\n",
              " './COVID-19/csse_covid_19_data/csse_covid_19_daily_reports/06-25-2020.csv',\n",
              " './COVID-19/csse_covid_19_data/csse_covid_19_daily_reports/11-04-2020.csv',\n",
              " './COVID-19/csse_covid_19_data/csse_covid_19_daily_reports/07-18-2020.csv',\n",
              " './COVID-19/csse_covid_19_data/csse_covid_19_daily_reports/06-23-2020.csv',\n",
              " './COVID-19/csse_covid_19_data/csse_covid_19_daily_reports/08-26-2020.csv',\n",
              " './COVID-19/csse_covid_19_data/csse_covid_19_daily_reports/06-02-2020.csv',\n",
              " './COVID-19/csse_covid_19_data/csse_covid_19_daily_reports/08-17-2020.csv',\n",
              " './COVID-19/csse_covid_19_data/csse_covid_19_daily_reports/11-02-2020.csv',\n",
              " './COVID-19/csse_covid_19_data/csse_covid_19_daily_reports/06-19-2020.csv',\n",
              " './COVID-19/csse_covid_19_data/csse_covid_19_daily_reports/03-16-2020.csv',\n",
              " './COVID-19/csse_covid_19_data/csse_covid_19_daily_reports/04-27-2020.csv',\n",
              " './COVID-19/csse_covid_19_data/csse_covid_19_daily_reports/09-21-2020.csv',\n",
              " './COVID-19/csse_covid_19_data/csse_covid_19_daily_reports/12-06-2020.csv',\n",
              " './COVID-19/csse_covid_19_data/csse_covid_19_daily_reports/04-04-2020.csv',\n",
              " './COVID-19/csse_covid_19_data/csse_covid_19_daily_reports/10-20-2020.csv',\n",
              " './COVID-19/csse_covid_19_data/csse_covid_19_daily_reports/07-12-2020.csv',\n",
              " './COVID-19/csse_covid_19_data/csse_covid_19_daily_reports/04-23-2020.csv',\n",
              " './COVID-19/csse_covid_19_data/csse_covid_19_daily_reports/11-09-2020.csv',\n",
              " './COVID-19/csse_covid_19_data/csse_covid_19_daily_reports/08-15-2020.csv',\n",
              " './COVID-19/csse_covid_19_data/csse_covid_19_daily_reports/07-23-2020.csv',\n",
              " './COVID-19/csse_covid_19_data/csse_covid_19_daily_reports/12-12-2020.csv',\n",
              " './COVID-19/csse_covid_19_data/csse_covid_19_daily_reports/11-18-2020.csv',\n",
              " './COVID-19/csse_covid_19_data/csse_covid_19_daily_reports/04-20-2020.csv',\n",
              " './COVID-19/csse_covid_19_data/csse_covid_19_daily_reports/07-16-2020.csv',\n",
              " './COVID-19/csse_covid_19_data/csse_covid_19_daily_reports/05-01-2020.csv',\n",
              " './COVID-19/csse_covid_19_data/csse_covid_19_daily_reports/07-27-2020.csv',\n",
              " './COVID-19/csse_covid_19_data/csse_covid_19_daily_reports/05-31-2020.csv',\n",
              " './COVID-19/csse_covid_19_data/csse_covid_19_daily_reports/03-23-2020.csv',\n",
              " './COVID-19/csse_covid_19_data/csse_covid_19_daily_reports/07-29-2020.csv',\n",
              " './COVID-19/csse_covid_19_data/csse_covid_19_daily_reports/07-05-2020.csv',\n",
              " './COVID-19/csse_covid_19_data/csse_covid_19_daily_reports/08-06-2020.csv',\n",
              " './COVID-19/csse_covid_19_data/csse_covid_19_daily_reports/02-25-2020.csv',\n",
              " './COVID-19/csse_covid_19_data/csse_covid_19_daily_reports/07-08-2020.csv',\n",
              " './COVID-19/csse_covid_19_data/csse_covid_19_daily_reports/09-24-2020.csv',\n",
              " './COVID-19/csse_covid_19_data/csse_covid_19_daily_reports/04-12-2020.csv',\n",
              " './COVID-19/csse_covid_19_data/csse_covid_19_daily_reports/10-14-2020.csv',\n",
              " './COVID-19/csse_covid_19_data/csse_covid_19_daily_reports/09-30-2020.csv',\n",
              " './COVID-19/csse_covid_19_data/csse_covid_19_daily_reports/10-09-2020.csv',\n",
              " './COVID-19/csse_covid_19_data/csse_covid_19_daily_reports/03-07-2020.csv',\n",
              " './COVID-19/csse_covid_19_data/csse_covid_19_daily_reports/06-14-2020.csv',\n",
              " './COVID-19/csse_covid_19_data/csse_covid_19_daily_reports/12-03-2020.csv',\n",
              " './COVID-19/csse_covid_19_data/csse_covid_19_daily_reports/03-28-2020.csv',\n",
              " './COVID-19/csse_covid_19_data/csse_covid_19_daily_reports/09-10-2020.csv',\n",
              " './COVID-19/csse_covid_19_data/csse_covid_19_daily_reports/04-28-2020.csv',\n",
              " './COVID-19/csse_covid_19_data/csse_covid_19_daily_reports/02-09-2020.csv',\n",
              " './COVID-19/csse_covid_19_data/csse_covid_19_daily_reports/08-16-2020.csv',\n",
              " './COVID-19/csse_covid_19_data/csse_covid_19_daily_reports/07-17-2020.csv',\n",
              " './COVID-19/csse_covid_19_data/csse_covid_19_daily_reports/04-19-2020.csv',\n",
              " './COVID-19/csse_covid_19_data/csse_covid_19_daily_reports/09-07-2020.csv',\n",
              " './COVID-19/csse_covid_19_data/csse_covid_19_daily_reports/03-18-2020.csv',\n",
              " './COVID-19/csse_covid_19_data/csse_covid_19_daily_reports/03-08-2020.csv',\n",
              " './COVID-19/csse_covid_19_data/csse_covid_19_daily_reports/06-20-2020.csv',\n",
              " './COVID-19/csse_covid_19_data/csse_covid_19_daily_reports/12-09-2020.csv',\n",
              " './COVID-19/csse_covid_19_data/csse_covid_19_daily_reports/11-01-2020.csv',\n",
              " './COVID-19/csse_covid_19_data/csse_covid_19_daily_reports/06-28-2020.csv',\n",
              " './COVID-19/csse_covid_19_data/csse_covid_19_daily_reports/11-14-2020.csv',\n",
              " './COVID-19/csse_covid_19_data/csse_covid_19_daily_reports/08-01-2020.csv',\n",
              " './COVID-19/csse_covid_19_data/csse_covid_19_daily_reports/08-27-2020.csv',\n",
              " './COVID-19/csse_covid_19_data/csse_covid_19_daily_reports/04-01-2020.csv',\n",
              " './COVID-19/csse_covid_19_data/csse_covid_19_daily_reports/01-30-2020.csv',\n",
              " './COVID-19/csse_covid_19_data/csse_covid_19_daily_reports/10-19-2020.csv',\n",
              " './COVID-19/csse_covid_19_data/csse_covid_19_daily_reports/08-19-2020.csv',\n",
              " './COVID-19/csse_covid_19_data/csse_covid_19_daily_reports/03-24-2020.csv',\n",
              " './COVID-19/csse_covid_19_data/csse_covid_19_daily_reports/07-06-2020.csv',\n",
              " './COVID-19/csse_covid_19_data/csse_covid_19_daily_reports/11-27-2020.csv',\n",
              " './COVID-19/csse_covid_19_data/csse_covid_19_daily_reports/06-24-2020.csv',\n",
              " './COVID-19/csse_covid_19_data/csse_covid_19_daily_reports/09-25-2020.csv',\n",
              " './COVID-19/csse_covid_19_data/csse_covid_19_daily_reports/03-17-2020.csv',\n",
              " './COVID-19/csse_covid_19_data/csse_covid_19_daily_reports/10-06-2020.csv',\n",
              " './COVID-19/csse_covid_19_data/csse_covid_19_daily_reports/10-17-2020.csv',\n",
              " './COVID-19/csse_covid_19_data/csse_covid_19_daily_reports/10-29-2020.csv',\n",
              " './COVID-19/csse_covid_19_data/csse_covid_19_daily_reports/08-09-2020.csv',\n",
              " './COVID-19/csse_covid_19_data/csse_covid_19_daily_reports/12-08-2020.csv',\n",
              " './COVID-19/csse_covid_19_data/csse_covid_19_daily_reports/11-23-2020.csv',\n",
              " './COVID-19/csse_covid_19_data/csse_covid_19_daily_reports/05-21-2020.csv',\n",
              " './COVID-19/csse_covid_19_data/csse_covid_19_daily_reports/10-16-2020.csv',\n",
              " './COVID-19/csse_covid_19_data/csse_covid_19_daily_reports/06-09-2020.csv',\n",
              " './COVID-19/csse_covid_19_data/csse_covid_19_daily_reports/07-22-2020.csv',\n",
              " './COVID-19/csse_covid_19_data/csse_covid_19_daily_reports/03-20-2020.csv']"
            ]
          },
          "metadata": {
            "tags": []
          },
          "execution_count": 574
        }
      ]
    },
    {
      "cell_type": "markdown",
      "metadata": {
        "id": "ybQu_rxMSUIy"
      },
      "source": [
        "You'll note that each file name is a date, which can be easily extracted (as example for the first file):"
      ]
    },
    {
      "cell_type": "code",
      "metadata": {
        "colab": {
          "base_uri": "https://localhost:8080/",
          "height": 36
        },
        "id": "2DD7q2yifJGT",
        "outputId": "b5d17250-8968-4fdd-903d-cdd13799f7ec"
      },
      "source": [
        "# Extract date string from filesname\n",
        "a_date_string=all_files[0].split(\"/\")[-1].split(\".\")[0]\n",
        "a_date_string"
      ],
      "execution_count": 555,
      "outputs": [
        {
          "output_type": "execute_result",
          "data": {
            "application/vnd.google.colaboratory.intrinsic+json": {
              "type": "string"
            },
            "text/plain": [
              "'05-23-2020'"
            ]
          },
          "metadata": {
            "tags": []
          },
          "execution_count": 555
        }
      ]
    },
    {
      "cell_type": "markdown",
      "metadata": {
        "id": "2uNdgYvZSUIy"
      },
      "source": [
        "In order to sort the files, you'll have to convert the date into a sortable format. For example, here is an example of converting the date into a time-stamp:"
      ]
    },
    {
      "cell_type": "code",
      "metadata": {
        "id": "1gPcx4YQSUIz",
        "colab": {
          "base_uri": "https://localhost:8080/"
        },
        "outputId": "91619504-5d00-46b0-fc65-227aa3b42014"
      },
      "source": [
        "import datetime,time\n",
        "time.mktime(datetime.datetime.strptime(a_date_string,\"%m-%d-%Y\").timetuple())"
      ],
      "execution_count": 556,
      "outputs": [
        {
          "output_type": "execute_result",
          "data": {
            "text/plain": [
              "1590192000.0"
            ]
          },
          "metadata": {
            "tags": []
          },
          "execution_count": 556
        }
      ]
    },
    {
      "cell_type": "markdown",
      "metadata": {
        "id": "bP5__Da4SUIz"
      },
      "source": [
        "Write a function that takes in a list of files with dates as filenames and return a list with the filenames sorted by date."
      ]
    },
    {
      "cell_type": "code",
      "metadata": {
        "id": "K0diipcBSUIz",
        "colab": {
          "base_uri": "https://localhost:8080/"
        },
        "outputId": "5db61844-9477-4b01-a9a3-e06da9178fcd"
      },
      "source": [
        "by_date=np.sort(all_files)\n",
        "\n",
        "def by_date_string(x):\n",
        "  return by_date[x].split(\"/\")[-1].split(\".\")[0]\n",
        "\n",
        "a = time.mktime(datetime.datetime.strptime(by_date_string(0),\"%m-%d-%Y\").timetuple())\n",
        "b = time.mktime(datetime.datetime.strptime(by_date_string(-1),\"%m-%d-%Y\").timetuple())\n",
        "\n",
        "print(by_date_string(0),'...',by_date_string(-1))"
      ],
      "execution_count": 557,
      "outputs": [
        {
          "output_type": "stream",
          "text": [
            "01-22-2020 ... 12-16-2020\n"
          ],
          "name": "stdout"
        }
      ]
    },
    {
      "cell_type": "markdown",
      "metadata": {
        "id": "rbU-Lh75SUIz"
      },
      "source": [
        "**Question 3**: As we have done in lecture, you can read in the CSV files using Pandas:"
      ]
    },
    {
      "cell_type": "code",
      "metadata": {
        "id": "GGX6JdT-SUI0"
      },
      "source": [
        "import pandas as pd\n",
        "df = pd.read_csv(all_files[0])"
      ],
      "execution_count": 558,
      "outputs": []
    },
    {
      "cell_type": "code",
      "metadata": {
        "id": "SkkHwANrSUI0",
        "colab": {
          "base_uri": "https://localhost:8080/",
          "height": 573
        },
        "outputId": "24ba9f5d-d3bb-4786-fc3f-0646ca5e4503"
      },
      "source": [
        "df"
      ],
      "execution_count": 559,
      "outputs": [
        {
          "output_type": "execute_result",
          "data": {
            "text/html": [
              "<div>\n",
              "<style scoped>\n",
              "    .dataframe tbody tr th:only-of-type {\n",
              "        vertical-align: middle;\n",
              "    }\n",
              "\n",
              "    .dataframe tbody tr th {\n",
              "        vertical-align: top;\n",
              "    }\n",
              "\n",
              "    .dataframe thead th {\n",
              "        text-align: right;\n",
              "    }\n",
              "</style>\n",
              "<table border=\"1\" class=\"dataframe\">\n",
              "  <thead>\n",
              "    <tr style=\"text-align: right;\">\n",
              "      <th></th>\n",
              "      <th>FIPS</th>\n",
              "      <th>Admin2</th>\n",
              "      <th>Province_State</th>\n",
              "      <th>Country_Region</th>\n",
              "      <th>Last_Update</th>\n",
              "      <th>Lat</th>\n",
              "      <th>Long_</th>\n",
              "      <th>Confirmed</th>\n",
              "      <th>Deaths</th>\n",
              "      <th>Recovered</th>\n",
              "      <th>Active</th>\n",
              "      <th>Combined_Key</th>\n",
              "    </tr>\n",
              "  </thead>\n",
              "  <tbody>\n",
              "    <tr>\n",
              "      <th>0</th>\n",
              "      <td>45001.0</td>\n",
              "      <td>Abbeville</td>\n",
              "      <td>South Carolina</td>\n",
              "      <td>US</td>\n",
              "      <td>2020-05-24 02:32:43</td>\n",
              "      <td>34.223334</td>\n",
              "      <td>-82.461707</td>\n",
              "      <td>35</td>\n",
              "      <td>0</td>\n",
              "      <td>0</td>\n",
              "      <td>35</td>\n",
              "      <td>Abbeville, South Carolina, US</td>\n",
              "    </tr>\n",
              "    <tr>\n",
              "      <th>1</th>\n",
              "      <td>22001.0</td>\n",
              "      <td>Acadia</td>\n",
              "      <td>Louisiana</td>\n",
              "      <td>US</td>\n",
              "      <td>2020-05-24 02:32:43</td>\n",
              "      <td>30.295065</td>\n",
              "      <td>-92.414197</td>\n",
              "      <td>289</td>\n",
              "      <td>15</td>\n",
              "      <td>0</td>\n",
              "      <td>274</td>\n",
              "      <td>Acadia, Louisiana, US</td>\n",
              "    </tr>\n",
              "    <tr>\n",
              "      <th>2</th>\n",
              "      <td>51001.0</td>\n",
              "      <td>Accomack</td>\n",
              "      <td>Virginia</td>\n",
              "      <td>US</td>\n",
              "      <td>2020-05-24 02:32:43</td>\n",
              "      <td>37.767072</td>\n",
              "      <td>-75.632346</td>\n",
              "      <td>722</td>\n",
              "      <td>11</td>\n",
              "      <td>0</td>\n",
              "      <td>711</td>\n",
              "      <td>Accomack, Virginia, US</td>\n",
              "    </tr>\n",
              "    <tr>\n",
              "      <th>3</th>\n",
              "      <td>16001.0</td>\n",
              "      <td>Ada</td>\n",
              "      <td>Idaho</td>\n",
              "      <td>US</td>\n",
              "      <td>2020-05-24 02:32:43</td>\n",
              "      <td>43.452658</td>\n",
              "      <td>-116.241552</td>\n",
              "      <td>794</td>\n",
              "      <td>23</td>\n",
              "      <td>0</td>\n",
              "      <td>771</td>\n",
              "      <td>Ada, Idaho, US</td>\n",
              "    </tr>\n",
              "    <tr>\n",
              "      <th>4</th>\n",
              "      <td>19001.0</td>\n",
              "      <td>Adair</td>\n",
              "      <td>Iowa</td>\n",
              "      <td>US</td>\n",
              "      <td>2020-05-24 02:32:43</td>\n",
              "      <td>41.330756</td>\n",
              "      <td>-94.471059</td>\n",
              "      <td>7</td>\n",
              "      <td>0</td>\n",
              "      <td>0</td>\n",
              "      <td>7</td>\n",
              "      <td>Adair, Iowa, US</td>\n",
              "    </tr>\n",
              "    <tr>\n",
              "      <th>...</th>\n",
              "      <td>...</td>\n",
              "      <td>...</td>\n",
              "      <td>...</td>\n",
              "      <td>...</td>\n",
              "      <td>...</td>\n",
              "      <td>...</td>\n",
              "      <td>...</td>\n",
              "      <td>...</td>\n",
              "      <td>...</td>\n",
              "      <td>...</td>\n",
              "      <td>...</td>\n",
              "      <td>...</td>\n",
              "    </tr>\n",
              "    <tr>\n",
              "      <th>3401</th>\n",
              "      <td>NaN</td>\n",
              "      <td>NaN</td>\n",
              "      <td>NaN</td>\n",
              "      <td>Vietnam</td>\n",
              "      <td>2020-05-24 02:32:43</td>\n",
              "      <td>14.058324</td>\n",
              "      <td>108.277199</td>\n",
              "      <td>325</td>\n",
              "      <td>0</td>\n",
              "      <td>267</td>\n",
              "      <td>58</td>\n",
              "      <td>Vietnam</td>\n",
              "    </tr>\n",
              "    <tr>\n",
              "      <th>3402</th>\n",
              "      <td>NaN</td>\n",
              "      <td>NaN</td>\n",
              "      <td>NaN</td>\n",
              "      <td>West Bank and Gaza</td>\n",
              "      <td>2020-05-24 02:32:43</td>\n",
              "      <td>31.952200</td>\n",
              "      <td>35.233200</td>\n",
              "      <td>423</td>\n",
              "      <td>3</td>\n",
              "      <td>348</td>\n",
              "      <td>72</td>\n",
              "      <td>West Bank and Gaza</td>\n",
              "    </tr>\n",
              "    <tr>\n",
              "      <th>3403</th>\n",
              "      <td>NaN</td>\n",
              "      <td>NaN</td>\n",
              "      <td>NaN</td>\n",
              "      <td>Yemen</td>\n",
              "      <td>2020-05-24 02:32:43</td>\n",
              "      <td>15.552727</td>\n",
              "      <td>48.516388</td>\n",
              "      <td>212</td>\n",
              "      <td>39</td>\n",
              "      <td>11</td>\n",
              "      <td>162</td>\n",
              "      <td>Yemen</td>\n",
              "    </tr>\n",
              "    <tr>\n",
              "      <th>3404</th>\n",
              "      <td>NaN</td>\n",
              "      <td>NaN</td>\n",
              "      <td>NaN</td>\n",
              "      <td>Zambia</td>\n",
              "      <td>2020-05-24 02:32:43</td>\n",
              "      <td>-13.133897</td>\n",
              "      <td>27.849332</td>\n",
              "      <td>920</td>\n",
              "      <td>7</td>\n",
              "      <td>336</td>\n",
              "      <td>577</td>\n",
              "      <td>Zambia</td>\n",
              "    </tr>\n",
              "    <tr>\n",
              "      <th>3405</th>\n",
              "      <td>NaN</td>\n",
              "      <td>NaN</td>\n",
              "      <td>NaN</td>\n",
              "      <td>Zimbabwe</td>\n",
              "      <td>2020-05-24 02:32:43</td>\n",
              "      <td>-19.015438</td>\n",
              "      <td>29.154857</td>\n",
              "      <td>56</td>\n",
              "      <td>4</td>\n",
              "      <td>18</td>\n",
              "      <td>34</td>\n",
              "      <td>Zimbabwe</td>\n",
              "    </tr>\n",
              "  </tbody>\n",
              "</table>\n",
              "<p>3406 rows × 12 columns</p>\n",
              "</div>"
            ],
            "text/plain": [
              "         FIPS     Admin2  ... Active                   Combined_Key\n",
              "0     45001.0  Abbeville  ...     35  Abbeville, South Carolina, US\n",
              "1     22001.0     Acadia  ...    274          Acadia, Louisiana, US\n",
              "2     51001.0   Accomack  ...    711         Accomack, Virginia, US\n",
              "3     16001.0        Ada  ...    771                 Ada, Idaho, US\n",
              "4     19001.0      Adair  ...      7                Adair, Iowa, US\n",
              "...       ...        ...  ...    ...                            ...\n",
              "3401      NaN        NaN  ...     58                        Vietnam\n",
              "3402      NaN        NaN  ...     72             West Bank and Gaza\n",
              "3403      NaN        NaN  ...    162                          Yemen\n",
              "3404      NaN        NaN  ...    577                         Zambia\n",
              "3405      NaN        NaN  ...     34                       Zimbabwe\n",
              "\n",
              "[3406 rows x 12 columns]"
            ]
          },
          "metadata": {
            "tags": []
          },
          "execution_count": 559
        }
      ]
    },
    {
      "cell_type": "code",
      "metadata": {
        "colab": {
          "base_uri": "https://localhost:8080/"
        },
        "id": "y-_xA6Cy_1To",
        "outputId": "fc0f1a51-ae00-4768-e408-df45ec7336c2"
      },
      "source": [
        "df.shape"
      ],
      "execution_count": 560,
      "outputs": [
        {
          "output_type": "execute_result",
          "data": {
            "text/plain": [
              "(3406, 12)"
            ]
          },
          "metadata": {
            "tags": []
          },
          "execution_count": 560
        }
      ]
    },
    {
      "cell_type": "markdown",
      "metadata": {
        "id": "LqWYNyg0SUI0"
      },
      "source": [
        "In order to create time-series plots, we need to convert the aggregate the data for each row over all of the files. Create a data structure to store this information. For example, the following structure stores 2 fields,for 2 regions for 2 days:"
      ]
    },
    {
      "cell_type": "code",
      "metadata": {
        "id": "23m1uG--SUI0",
        "colab": {
          "base_uri": "https://localhost:8080/"
        },
        "outputId": "029c9de7-e88f-459b-d209-1467c6c19678"
      },
      "source": [
        "{\n",
        "  \"Hubei, Mainland China\" : { \"Confirmed\": [65187, 65596],\n",
        "                               \"Deaths\": [1347,2641]},\n",
        "\n",
        "  \"Guangdong, Mainland China\" :  { \"Confirmed\": [1347, 1347],\n",
        "                                   \"Deaths\": [7,7]}\n",
        "}"
      ],
      "execution_count": 561,
      "outputs": [
        {
          "output_type": "execute_result",
          "data": {
            "text/plain": [
              "{'Guangdong, Mainland China': {'Confirmed': [1347, 1347], 'Deaths': [7, 7]},\n",
              " 'Hubei, Mainland China': {'Confirmed': [65187, 65596],\n",
              "  'Deaths': [1347, 2641]}}"
            ]
          },
          "metadata": {
            "tags": []
          },
          "execution_count": 561
        }
      ]
    },
    {
      "cell_type": "code",
      "metadata": {
        "id": "dsVuHhbm9PMM",
        "colab": {
          "base_uri": "https://localhost:8080/",
          "height": 553
        },
        "outputId": "fed5229a-04a8-4788-92b6-f354ffb2bcb9"
      },
      "source": [
        "Regions = list(map(lambda x: x.split(\"\\n\")[0],df[df.columns[11]][0:-1]))\n",
        "last_update = list(map(lambda x: x.split(\"\\n\")[0],df[df.columns[4]][0:-1]))\n",
        "\n",
        "Latitude = df[df.columns[5]][0:-1]\n",
        "Longitude = df[df.columns[6]][0:-1]\n",
        "Coordinates = list(zip(Longitude,Latitude))\n",
        "\n",
        "Confirmed = df[df.columns[7]][0:-1]\n",
        "Deaths = df[df.columns[8]][0:-1]\n",
        "Recovered = df[df.columns[9]][0:-1]\n",
        "Active = df[df.columns[10]][0:-1]\n",
        "\n",
        "df[\"Last Update\"]=last_update+[0.]\n",
        "df[\"Regions\"]=Regions+[0.]\n",
        "\n",
        "df[\"Coordinates\"]=Coordinates+[0.]\n",
        "\n",
        "df[\"confirmed\"]=Confirmed+[0.]\n",
        "df[\"deaths\"]=Deaths+[0.]\n",
        "df[\"recovered\"]=Recovered+[0.]\n",
        "df[\"active\"]=Active+[0.]\n",
        "\n",
        "x=df[df.columns[12:19]]\n",
        "x"
      ],
      "execution_count": 562,
      "outputs": [
        {
          "output_type": "execute_result",
          "data": {
            "text/html": [
              "<div>\n",
              "<style scoped>\n",
              "    .dataframe tbody tr th:only-of-type {\n",
              "        vertical-align: middle;\n",
              "    }\n",
              "\n",
              "    .dataframe tbody tr th {\n",
              "        vertical-align: top;\n",
              "    }\n",
              "\n",
              "    .dataframe thead th {\n",
              "        text-align: right;\n",
              "    }\n",
              "</style>\n",
              "<table border=\"1\" class=\"dataframe\">\n",
              "  <thead>\n",
              "    <tr style=\"text-align: right;\">\n",
              "      <th></th>\n",
              "      <th>Last Update</th>\n",
              "      <th>Regions</th>\n",
              "      <th>Coordinates</th>\n",
              "      <th>confirmed</th>\n",
              "      <th>deaths</th>\n",
              "      <th>recovered</th>\n",
              "      <th>active</th>\n",
              "    </tr>\n",
              "  </thead>\n",
              "  <tbody>\n",
              "    <tr>\n",
              "      <th>0</th>\n",
              "      <td>2020-05-24 02:32:43</td>\n",
              "      <td>Abbeville, South Carolina, US</td>\n",
              "      <td>(-82.46170658, 34.22333378)</td>\n",
              "      <td>35.0</td>\n",
              "      <td>0.0</td>\n",
              "      <td>0.0</td>\n",
              "      <td>35.0</td>\n",
              "    </tr>\n",
              "    <tr>\n",
              "      <th>1</th>\n",
              "      <td>2020-05-24 02:32:43</td>\n",
              "      <td>Acadia, Louisiana, US</td>\n",
              "      <td>(-92.41419698, 30.295064899999996)</td>\n",
              "      <td>289.0</td>\n",
              "      <td>15.0</td>\n",
              "      <td>0.0</td>\n",
              "      <td>274.0</td>\n",
              "    </tr>\n",
              "    <tr>\n",
              "      <th>2</th>\n",
              "      <td>2020-05-24 02:32:43</td>\n",
              "      <td>Accomack, Virginia, US</td>\n",
              "      <td>(-75.63234615, 37.76707161)</td>\n",
              "      <td>722.0</td>\n",
              "      <td>11.0</td>\n",
              "      <td>0.0</td>\n",
              "      <td>711.0</td>\n",
              "    </tr>\n",
              "    <tr>\n",
              "      <th>3</th>\n",
              "      <td>2020-05-24 02:32:43</td>\n",
              "      <td>Ada, Idaho, US</td>\n",
              "      <td>(-116.24155159999998, 43.4526575)</td>\n",
              "      <td>794.0</td>\n",
              "      <td>23.0</td>\n",
              "      <td>0.0</td>\n",
              "      <td>771.0</td>\n",
              "    </tr>\n",
              "    <tr>\n",
              "      <th>4</th>\n",
              "      <td>2020-05-24 02:32:43</td>\n",
              "      <td>Adair, Iowa, US</td>\n",
              "      <td>(-94.47105874, 41.33075609)</td>\n",
              "      <td>7.0</td>\n",
              "      <td>0.0</td>\n",
              "      <td>0.0</td>\n",
              "      <td>7.0</td>\n",
              "    </tr>\n",
              "    <tr>\n",
              "      <th>...</th>\n",
              "      <td>...</td>\n",
              "      <td>...</td>\n",
              "      <td>...</td>\n",
              "      <td>...</td>\n",
              "      <td>...</td>\n",
              "      <td>...</td>\n",
              "      <td>...</td>\n",
              "    </tr>\n",
              "    <tr>\n",
              "      <th>3401</th>\n",
              "      <td>2020-05-24 02:32:43</td>\n",
              "      <td>Vietnam</td>\n",
              "      <td>(108.277199, 14.058323999999999)</td>\n",
              "      <td>325.0</td>\n",
              "      <td>0.0</td>\n",
              "      <td>267.0</td>\n",
              "      <td>58.0</td>\n",
              "    </tr>\n",
              "    <tr>\n",
              "      <th>3402</th>\n",
              "      <td>2020-05-24 02:32:43</td>\n",
              "      <td>West Bank and Gaza</td>\n",
              "      <td>(35.2332, 31.9522)</td>\n",
              "      <td>423.0</td>\n",
              "      <td>3.0</td>\n",
              "      <td>348.0</td>\n",
              "      <td>72.0</td>\n",
              "    </tr>\n",
              "    <tr>\n",
              "      <th>3403</th>\n",
              "      <td>2020-05-24 02:32:43</td>\n",
              "      <td>Yemen</td>\n",
              "      <td>(48.516388, 15.552726999999999)</td>\n",
              "      <td>212.0</td>\n",
              "      <td>39.0</td>\n",
              "      <td>11.0</td>\n",
              "      <td>162.0</td>\n",
              "    </tr>\n",
              "    <tr>\n",
              "      <th>3404</th>\n",
              "      <td>2020-05-24 02:32:43</td>\n",
              "      <td>Zambia</td>\n",
              "      <td>(27.849332, -13.133897)</td>\n",
              "      <td>920.0</td>\n",
              "      <td>7.0</td>\n",
              "      <td>336.0</td>\n",
              "      <td>577.0</td>\n",
              "    </tr>\n",
              "    <tr>\n",
              "      <th>3405</th>\n",
              "      <td>0</td>\n",
              "      <td>0</td>\n",
              "      <td>0</td>\n",
              "      <td>NaN</td>\n",
              "      <td>NaN</td>\n",
              "      <td>NaN</td>\n",
              "      <td>NaN</td>\n",
              "    </tr>\n",
              "  </tbody>\n",
              "</table>\n",
              "<p>3406 rows × 7 columns</p>\n",
              "</div>"
            ],
            "text/plain": [
              "              Last Update                        Regions  ... recovered  active\n",
              "0     2020-05-24 02:32:43  Abbeville, South Carolina, US  ...       0.0    35.0\n",
              "1     2020-05-24 02:32:43          Acadia, Louisiana, US  ...       0.0   274.0\n",
              "2     2020-05-24 02:32:43         Accomack, Virginia, US  ...       0.0   711.0\n",
              "3     2020-05-24 02:32:43                 Ada, Idaho, US  ...       0.0   771.0\n",
              "4     2020-05-24 02:32:43                Adair, Iowa, US  ...       0.0     7.0\n",
              "...                   ...                            ...  ...       ...     ...\n",
              "3401  2020-05-24 02:32:43                        Vietnam  ...     267.0    58.0\n",
              "3402  2020-05-24 02:32:43             West Bank and Gaza  ...     348.0    72.0\n",
              "3403  2020-05-24 02:32:43                          Yemen  ...      11.0   162.0\n",
              "3404  2020-05-24 02:32:43                         Zambia  ...     336.0   577.0\n",
              "3405                    0                              0  ...       NaN     NaN\n",
              "\n",
              "[3406 rows x 7 columns]"
            ]
          },
          "metadata": {
            "tags": []
          },
          "execution_count": 562
        }
      ]
    },
    {
      "cell_type": "markdown",
      "metadata": {
        "id": "5ZWMrmkvSUI1"
      },
      "source": [
        "Write a function that takes the sorted list of files from previous exercise, and outputs a data structure analogous to this example, containing all of the data stored in the files."
      ]
    },
    {
      "cell_type": "code",
      "metadata": {
        "id": "5B2ixrNTlY6w",
        "colab": {
          "base_uri": "https://localhost:8080/"
        },
        "outputId": "578382c3-9255-4cf9-d974-0eebfb2e067c"
      },
      "source": [
        "df1 = {\"Province_State, Country_Region\" : { \"Last_Update\":[],\n",
        "                                          \"Lat\":[],\n",
        "                                          \"Long_\":[],\n",
        "                                          \"Confirmed\":[],\n",
        "                                          \"Deaths\":[],\n",
        "                                          \"Recovered\":[]\n",
        "                                          }\n",
        "     }\n",
        "df1 = pd.read_csv(by_date[1])\n",
        "\n",
        "df2 = df1\n",
        "df2 = pd.read_csv(by_date[2])\n",
        "\n",
        "dt = {\"Province_State, Country_Region\" : { \"Last_Update\":[df1],\n",
        "                                           \"Lat\":[df1],\n",
        "                                           \"Long_\":[df1],\n",
        "                                           \"Confirmed\":[df1],\n",
        "                                           \"Deaths\":[df1],\n",
        "                                          \"Recovered\":[df1]\n",
        "                                          ,\n",
        "                                          \"Last_Update\":[df2],\n",
        "                                           \"Lat\":[df2],\n",
        "                                           \"Long_\":[df2],\n",
        "                                           \"Confirmed\":[df2],\n",
        "                                           \"Deaths\":[df2],\n",
        "                                          \"Recovered\":[df2]\n",
        "                                          }\n",
        "     }\n",
        "dt = (df1,df2)\n",
        "dt"
      ],
      "execution_count": 563,
      "outputs": [
        {
          "output_type": "execute_result",
          "data": {
            "text/plain": [
              "(    Province/State  Country/Region    Last Update  Confirmed  Deaths  Recovered\n",
              " 0            Anhui  Mainland China  1/23/20 17:00        9.0     NaN        NaN\n",
              " 1          Beijing  Mainland China  1/23/20 17:00       22.0     NaN        NaN\n",
              " 2        Chongqing  Mainland China  1/23/20 17:00        9.0     NaN        NaN\n",
              " 3           Fujian  Mainland China  1/23/20 17:00        5.0     NaN        NaN\n",
              " 4            Gansu  Mainland China  1/23/20 17:00        2.0     NaN        NaN\n",
              " 5        Guangdong  Mainland China  1/23/20 17:00       32.0     NaN        2.0\n",
              " 6          Guangxi  Mainland China  1/23/20 17:00        5.0     NaN        NaN\n",
              " 7          Guizhou  Mainland China  1/23/20 17:00        3.0     NaN        NaN\n",
              " 8           Hainan  Mainland China  1/23/20 17:00        5.0     NaN        NaN\n",
              " 9            Hebei  Mainland China  1/23/20 17:00        1.0     1.0        NaN\n",
              " 10    Heilongjiang  Mainland China  1/23/20 17:00        2.0     NaN        NaN\n",
              " 11           Henan  Mainland China  1/23/20 17:00        5.0     NaN        NaN\n",
              " 12       Hong Kong       Hong Kong  1/23/20 17:00        2.0     NaN        NaN\n",
              " 13           Hubei  Mainland China  1/23/20 17:00      444.0    17.0       28.0\n",
              " 14           Hunan  Mainland China  1/23/20 17:00        9.0     NaN        NaN\n",
              " 15  Inner Mongolia  Mainland China  1/23/20 17:00        NaN     NaN        NaN\n",
              " 16         Jiangsu  Mainland China  1/23/20 17:00        5.0     NaN        NaN\n",
              " 17         Jiangxi  Mainland China  1/23/20 17:00        7.0     NaN        NaN\n",
              " 18           Jilin  Mainland China  1/23/20 17:00        1.0     NaN        NaN\n",
              " 19        Liaoning  Mainland China  1/23/20 17:00        3.0     NaN        NaN\n",
              " 20           Macau           Macau  1/23/20 17:00        2.0     NaN        NaN\n",
              " 21         Ningxia  Mainland China  1/23/20 17:00        1.0     NaN        NaN\n",
              " 22         Qinghai  Mainland China  1/23/20 17:00        NaN     NaN        NaN\n",
              " 23         Shaanxi  Mainland China  1/23/20 17:00        3.0     NaN        NaN\n",
              " 24        Shandong  Mainland China  1/23/20 17:00        6.0     NaN        NaN\n",
              " 25        Shanghai  Mainland China  1/23/20 17:00       16.0     NaN        NaN\n",
              " 26          Shanxi  Mainland China  1/23/20 17:00        1.0     NaN        NaN\n",
              " 27         Sichuan  Mainland China  1/23/20 17:00        8.0     NaN        NaN\n",
              " 28          Taiwan          Taiwan  1/23/20 17:00        1.0     NaN        NaN\n",
              " 29         Tianjin  Mainland China  1/23/20 17:00        4.0     NaN        NaN\n",
              " 30           Tibet  Mainland China  1/23/20 17:00        NaN     NaN        NaN\n",
              " 31      Washington              US  1/23/20 17:00        1.0     NaN        NaN\n",
              " 32        Xinjiang  Mainland China  1/23/20 17:00        2.0     NaN        NaN\n",
              " 33          Yunnan  Mainland China  1/23/20 17:00        2.0     NaN        NaN\n",
              " 34        Zhejiang  Mainland China  1/23/20 17:00       27.0     NaN        NaN\n",
              " 35             NaN           Japan  1/23/20 17:00        1.0     NaN        NaN\n",
              " 36             NaN        Thailand  1/23/20 17:00        3.0     NaN        NaN\n",
              " 37             NaN     South Korea  1/23/20 17:00        1.0     NaN        NaN\n",
              " 38             NaN       Singapore  1/23/20 17:00        1.0     NaN        NaN\n",
              " 39             NaN     Philippines  1/23/20 17:00        NaN     NaN        NaN\n",
              " 40             NaN        Malaysia  1/23/20 17:00        NaN     NaN        NaN\n",
              " 41             NaN         Vietnam  1/23/20 17:00        2.0     NaN        NaN\n",
              " 42             NaN       Australia  1/23/20 17:00        NaN     NaN        NaN\n",
              " 43             NaN          Mexico  1/23/20 17:00        NaN     NaN        NaN\n",
              " 44             NaN          Brazil  1/23/20 17:00        NaN     NaN        NaN\n",
              " 45             NaN        Colombia  1/23/20 17:00        NaN     NaN        NaN,\n",
              "     Province/State  Country/Region    Last Update  Confirmed  Deaths  Recovered\n",
              " 0            Hubei  Mainland China  1/24/20 17:00      549.0    24.0       31.0\n",
              " 1        Guangdong  Mainland China  1/24/20 17:00       53.0     NaN        2.0\n",
              " 2         Zhejiang  Mainland China  1/24/20 17:00       43.0     NaN        1.0\n",
              " 3          Beijing  Mainland China  1/24/20 17:00       36.0     NaN        1.0\n",
              " 4        Chongqing  Mainland China  1/24/20 17:00       27.0     NaN        NaN\n",
              " 5            Hunan  Mainland China  1/24/20 17:00       24.0     NaN        NaN\n",
              " 6          Guangxi  Mainland China  1/24/20 17:00       23.0     NaN        NaN\n",
              " 7         Shanghai  Mainland China  1/24/20 17:00       20.0     NaN        1.0\n",
              " 8          Jiangxi  Mainland China  1/24/20 17:00       18.0     NaN        NaN\n",
              " 9          Sichuan  Mainland China  1/24/20 17:00       15.0     NaN        NaN\n",
              " 10        Shandong  Mainland China  1/24/20 17:00       15.0     NaN        NaN\n",
              " 11           Anhui  Mainland China  1/24/20 17:00       15.0     NaN        NaN\n",
              " 12          Fujian  Mainland China  1/24/20 17:00       10.0     NaN        NaN\n",
              " 13           Henan  Mainland China  1/24/20 17:00        9.0     NaN        NaN\n",
              " 14         Jiangsu  Mainland China  1/24/20 17:00        9.0     NaN        NaN\n",
              " 15          Hainan  Mainland China  1/24/20 17:00        8.0     NaN        NaN\n",
              " 16         Tianjin  Mainland China  1/24/20 17:00        8.0     NaN        NaN\n",
              " 17          Yunnan  Mainland China  1/24/20 17:00        5.0     NaN        NaN\n",
              " 18         Shaanxi  Mainland China  1/24/20 17:00        5.0     NaN        NaN\n",
              " 19    Heilongjiang  Mainland China  1/24/20 17:00        4.0     1.0        NaN\n",
              " 20        Liaoning  Mainland China  1/24/20 17:00        4.0     NaN        NaN\n",
              " 21         Guizhou  Mainland China  1/24/20 17:00        3.0     NaN        NaN\n",
              " 22           Jilin  Mainland China  1/24/20 17:00        3.0     NaN        NaN\n",
              " 23          Taiwan          Taiwan  1/24/20 17:00        3.0     NaN        NaN\n",
              " 24         Ningxia  Mainland China  1/24/20 17:00        2.0     NaN        NaN\n",
              " 25       Hong Kong       Hong Kong  1/24/20 17:00        2.0     NaN        NaN\n",
              " 26           Macau           Macau  1/24/20 17:00        2.0     NaN        NaN\n",
              " 27           Hebei  Mainland China  1/24/20 17:00        2.0     1.0        NaN\n",
              " 28           Gansu  Mainland China  1/24/20 17:00        2.0     NaN        NaN\n",
              " 29        Xinjiang  Mainland China  1/24/20 17:00        2.0     NaN        NaN\n",
              " 30          Shanxi  Mainland China  1/24/20 17:00        1.0     NaN        NaN\n",
              " 31  Inner Mongolia  Mainland China  1/24/20 17:00        1.0     NaN        NaN\n",
              " 32         Qinghai  Mainland China  1/24/20 17:00        NaN     NaN        NaN\n",
              " 33      Washington              US  1/24/20 17:00        1.0     NaN        NaN\n",
              " 34         Chicago              US  1/24/20 17:00        1.0     NaN        NaN\n",
              " 35             NaN           Japan  1/24/20 17:00        2.0     NaN        NaN\n",
              " 36             NaN        Thailand  1/24/20 17:00        5.0     NaN        NaN\n",
              " 37             NaN     South Korea  1/24/20 17:00        2.0     NaN        NaN\n",
              " 38             NaN       Singapore  1/24/20 17:00        3.0     NaN        NaN\n",
              " 39             NaN         Vietnam  1/24/20 17:00        2.0     NaN        NaN\n",
              " 40             NaN          France  1/24/20 17:00        2.0     NaN        NaN)"
            ]
          },
          "metadata": {
            "tags": []
          },
          "execution_count": 563
        }
      ]
    },
    {
      "cell_type": "markdown",
      "metadata": {
        "id": "Mc-9pqUwSUI1"
      },
      "source": [
        "**Question 4**: Write a function that takes data structure from above, name of an area, a field name, and uses `matplotlib` to make a time series plot of that field. "
      ]
    },
    {
      "cell_type": "code",
      "metadata": {
        "id": "0pt0zYLNOY4b",
        "colab": {
          "base_uri": "https://localhost:8080/",
          "height": 730
        },
        "outputId": "b00e6780-21b3-4c98-eff1-1ee1b6e3e171"
      },
      "source": [
        "fig,ax= plt.subplots(1,1,figsize=(10,10))\n",
        "\n",
        "ax.bar(range(46),df1[df1.columns[3]][0:46])\n",
        "ax.set_xticks(range(46))\n",
        "_=ax.set_xticklabels((Regions), rotation='vertical', fontsize=10)\n",
        "_=ax.set_ylabel(df1.columns[3])"
      ],
      "execution_count": 564,
      "outputs": [
        {
          "output_type": "display_data",
          "data": {
            "image/png": "[encoded data removed]",
            "text/plain": [
              "<Figure size 720x720 with 1 Axes>"
            ]
          },
          "metadata": {
            "tags": [],
            "needs_background": "light"
          }
        }
      ]
    },
    {
      "cell_type": "markdown",
      "metadata": {
        "id": "tpcYXnuaSUI1"
      },
      "source": [
        "**Question 5**: Write a function that takes a list of region names and the data structure from previous question and aggregate the fields over the regions, outputing a data structure that is otherwise identical to the input. Use this function to aggregate the data for each country."
      ]
    },
    {
      "cell_type": "code",
      "metadata": {
        "id": "IcFidwI0SUI2"
      },
      "source": [
        "# able to sum ordered plot data now (for say all of china, not just by city)\n",
        "      # give it a list of regions and takes the data structure you have in 3 and \n",
        "      # takes a list of list of regions and converts that into a new data structure\n",
        "      # at over those regions \n",
        "      # a way of going through and adding (aggregating) all, of china for example\n",
        "\n",
        "# all were doing is taking the sum for each country and making a data set/structure\n",
        "      # that is a sum for each country rather than having per region/state"
      ],
      "execution_count": 565,
      "outputs": []
    },
    {
      "cell_type": "code",
      "metadata": {
        "id": "5cEOJWwQVrLM",
        "colab": {
          "base_uri": "https://localhost:8080/",
          "height": 553
        },
        "outputId": "27ae110c-d71c-4a77-dc03-1dcc737ccc2b"
      },
      "source": [
        "df5 = pd.read_csv(all_files[0])\n",
        "\n",
        "country_region = list(map(lambda x: x.split(\"\\n\")[0],df5[df5.columns[3]][0:-1]))\n",
        "last_update = list(map(lambda x: x.split(\"\\n\")[0],df5[df5.columns[4]][0:-1]))\n",
        "\n",
        "Latitude = df5[df5.columns[5]][0:-1]\n",
        "Longitude = df5[df5.columns[6]][0:-1]\n",
        "Coordinates = list(zip(Longitude,Latitude))\n",
        "\n",
        "Confirmed = df5[df5.columns[7]][0:-1]\n",
        "Deaths = df5[df5.columns[8]][0:-1]\n",
        "Recovered = df5[df5.columns[9]][0:-1]\n",
        "Active = df5[df5.columns[10]][0:-1]\n",
        "\n",
        "df5[\"country region\"]=country_region+[0.]\n",
        "df5[\"Last Update\"]=last_update+[0.]\n",
        "\n",
        "df5[\"Coordinates\"]=Coordinates+[0.]\n",
        "\n",
        "df5[\"confirmed\"]=Confirmed+[0.]\n",
        "df5[\"deaths\"]=Deaths+[0.]\n",
        "df5[\"recovered\"]=Recovered+[0.]\n",
        "df5[\"active\"]=Active+[0.]\n",
        "\n",
        "df5[df5.columns[12:19]]"
      ],
      "execution_count": 566,
      "outputs": [
        {
          "output_type": "execute_result",
          "data": {
            "text/html": [
              "<div>\n",
              "<style scoped>\n",
              "    .dataframe tbody tr th:only-of-type {\n",
              "        vertical-align: middle;\n",
              "    }\n",
              "\n",
              "    .dataframe tbody tr th {\n",
              "        vertical-align: top;\n",
              "    }\n",
              "\n",
              "    .dataframe thead th {\n",
              "        text-align: right;\n",
              "    }\n",
              "</style>\n",
              "<table border=\"1\" class=\"dataframe\">\n",
              "  <thead>\n",
              "    <tr style=\"text-align: right;\">\n",
              "      <th></th>\n",
              "      <th>country region</th>\n",
              "      <th>Last Update</th>\n",
              "      <th>Coordinates</th>\n",
              "      <th>confirmed</th>\n",
              "      <th>deaths</th>\n",
              "      <th>recovered</th>\n",
              "      <th>active</th>\n",
              "    </tr>\n",
              "  </thead>\n",
              "  <tbody>\n",
              "    <tr>\n",
              "      <th>0</th>\n",
              "      <td>US</td>\n",
              "      <td>2020-05-24 02:32:43</td>\n",
              "      <td>(-82.46170658, 34.22333378)</td>\n",
              "      <td>35.0</td>\n",
              "      <td>0.0</td>\n",
              "      <td>0.0</td>\n",
              "      <td>35.0</td>\n",
              "    </tr>\n",
              "    <tr>\n",
              "      <th>1</th>\n",
              "      <td>US</td>\n",
              "      <td>2020-05-24 02:32:43</td>\n",
              "      <td>(-92.41419698, 30.295064899999996)</td>\n",
              "      <td>289.0</td>\n",
              "      <td>15.0</td>\n",
              "      <td>0.0</td>\n",
              "      <td>274.0</td>\n",
              "    </tr>\n",
              "    <tr>\n",
              "      <th>2</th>\n",
              "      <td>US</td>\n",
              "      <td>2020-05-24 02:32:43</td>\n",
              "      <td>(-75.63234615, 37.76707161)</td>\n",
              "      <td>722.0</td>\n",
              "      <td>11.0</td>\n",
              "      <td>0.0</td>\n",
              "      <td>711.0</td>\n",
              "    </tr>\n",
              "    <tr>\n",
              "      <th>3</th>\n",
              "      <td>US</td>\n",
              "      <td>2020-05-24 02:32:43</td>\n",
              "      <td>(-116.24155159999998, 43.4526575)</td>\n",
              "      <td>794.0</td>\n",
              "      <td>23.0</td>\n",
              "      <td>0.0</td>\n",
              "      <td>771.0</td>\n",
              "    </tr>\n",
              "    <tr>\n",
              "      <th>4</th>\n",
              "      <td>US</td>\n",
              "      <td>2020-05-24 02:32:43</td>\n",
              "      <td>(-94.47105874, 41.33075609)</td>\n",
              "      <td>7.0</td>\n",
              "      <td>0.0</td>\n",
              "      <td>0.0</td>\n",
              "      <td>7.0</td>\n",
              "    </tr>\n",
              "    <tr>\n",
              "      <th>...</th>\n",
              "      <td>...</td>\n",
              "      <td>...</td>\n",
              "      <td>...</td>\n",
              "      <td>...</td>\n",
              "      <td>...</td>\n",
              "      <td>...</td>\n",
              "      <td>...</td>\n",
              "    </tr>\n",
              "    <tr>\n",
              "      <th>3401</th>\n",
              "      <td>Vietnam</td>\n",
              "      <td>2020-05-24 02:32:43</td>\n",
              "      <td>(108.277199, 14.058323999999999)</td>\n",
              "      <td>325.0</td>\n",
              "      <td>0.0</td>\n",
              "      <td>267.0</td>\n",
              "      <td>58.0</td>\n",
              "    </tr>\n",
              "    <tr>\n",
              "      <th>3402</th>\n",
              "      <td>West Bank and Gaza</td>\n",
              "      <td>2020-05-24 02:32:43</td>\n",
              "      <td>(35.2332, 31.9522)</td>\n",
              "      <td>423.0</td>\n",
              "      <td>3.0</td>\n",
              "      <td>348.0</td>\n",
              "      <td>72.0</td>\n",
              "    </tr>\n",
              "    <tr>\n",
              "      <th>3403</th>\n",
              "      <td>Yemen</td>\n",
              "      <td>2020-05-24 02:32:43</td>\n",
              "      <td>(48.516388, 15.552726999999999)</td>\n",
              "      <td>212.0</td>\n",
              "      <td>39.0</td>\n",
              "      <td>11.0</td>\n",
              "      <td>162.0</td>\n",
              "    </tr>\n",
              "    <tr>\n",
              "      <th>3404</th>\n",
              "      <td>Zambia</td>\n",
              "      <td>2020-05-24 02:32:43</td>\n",
              "      <td>(27.849332, -13.133897)</td>\n",
              "      <td>920.0</td>\n",
              "      <td>7.0</td>\n",
              "      <td>336.0</td>\n",
              "      <td>577.0</td>\n",
              "    </tr>\n",
              "    <tr>\n",
              "      <th>3405</th>\n",
              "      <td>0</td>\n",
              "      <td>0</td>\n",
              "      <td>0</td>\n",
              "      <td>NaN</td>\n",
              "      <td>NaN</td>\n",
              "      <td>NaN</td>\n",
              "      <td>NaN</td>\n",
              "    </tr>\n",
              "  </tbody>\n",
              "</table>\n",
              "<p>3406 rows × 7 columns</p>\n",
              "</div>"
            ],
            "text/plain": [
              "          country region          Last Update  ... recovered  active\n",
              "0                     US  2020-05-24 02:32:43  ...       0.0    35.0\n",
              "1                     US  2020-05-24 02:32:43  ...       0.0   274.0\n",
              "2                     US  2020-05-24 02:32:43  ...       0.0   711.0\n",
              "3                     US  2020-05-24 02:32:43  ...       0.0   771.0\n",
              "4                     US  2020-05-24 02:32:43  ...       0.0     7.0\n",
              "...                  ...                  ...  ...       ...     ...\n",
              "3401             Vietnam  2020-05-24 02:32:43  ...     267.0    58.0\n",
              "3402  West Bank and Gaza  2020-05-24 02:32:43  ...     348.0    72.0\n",
              "3403               Yemen  2020-05-24 02:32:43  ...      11.0   162.0\n",
              "3404              Zambia  2020-05-24 02:32:43  ...     336.0   577.0\n",
              "3405                   0                    0  ...       NaN     NaN\n",
              "\n",
              "[3406 rows x 7 columns]"
            ]
          },
          "metadata": {
            "tags": []
          },
          "execution_count": 566
        }
      ]
    },
    {
      "cell_type": "code",
      "metadata": {
        "id": "8bJt3YhEY3KD",
        "colab": {
          "base_uri": "https://localhost:8080/"
        },
        "outputId": "0f474a1d-50dd-436d-cd79-901126950341"
      },
      "source": [
        "df15 = {\"Country_Region\" : { \"Last_Update\":[6],\n",
        "                            \"Lat\":[],\n",
        "                            \"Long_\":[],\n",
        "                            \"Confirmed\":[],\n",
        "                            \"Deaths\":[],\n",
        "                            \"Recovered\":[]\n",
        "                            }\n",
        "     }\n",
        "df15 = pd.read_csv(all_files[5])\n",
        "\n",
        "df25 = df1\n",
        "df25 = pd.read_csv(all_files[6])\n",
        "\n",
        "dt5 = {\"Country_Region\" : { \"Last_Update\":[df15*6],\n",
        "                            \"Lat\":[df15],\n",
        "                            \"Long_\":[df15],\n",
        "                            \"Confirmed\":[df15],\n",
        "                            \"Deaths\":[df15],\n",
        "                            \"Recovered\":[df15]\n",
        "                            ,\n",
        "                            \"Last_Update\":[df25],\n",
        "                            \"Lat\":[df25],\n",
        "                            \"Long_\":[df25],\n",
        "                            \"Confirmed\":[df25],\n",
        "                            \"Deaths\":[df25],\n",
        "                            \"Recovered\":[df25]\n",
        "                          }\n",
        "     }\n",
        "dt5 = (df1,df2)\n",
        "dt5"
      ],
      "execution_count": 567,
      "outputs": [
        {
          "output_type": "execute_result",
          "data": {
            "text/plain": [
              "(    Province/State  Country/Region    Last Update  Confirmed  Deaths  Recovered\n",
              " 0            Anhui  Mainland China  1/23/20 17:00        9.0     NaN        NaN\n",
              " 1          Beijing  Mainland China  1/23/20 17:00       22.0     NaN        NaN\n",
              " 2        Chongqing  Mainland China  1/23/20 17:00        9.0     NaN        NaN\n",
              " 3           Fujian  Mainland China  1/23/20 17:00        5.0     NaN        NaN\n",
              " 4            Gansu  Mainland China  1/23/20 17:00        2.0     NaN        NaN\n",
              " 5        Guangdong  Mainland China  1/23/20 17:00       32.0     NaN        2.0\n",
              " 6          Guangxi  Mainland China  1/23/20 17:00        5.0     NaN        NaN\n",
              " 7          Guizhou  Mainland China  1/23/20 17:00        3.0     NaN        NaN\n",
              " 8           Hainan  Mainland China  1/23/20 17:00        5.0     NaN        NaN\n",
              " 9            Hebei  Mainland China  1/23/20 17:00        1.0     1.0        NaN\n",
              " 10    Heilongjiang  Mainland China  1/23/20 17:00        2.0     NaN        NaN\n",
              " 11           Henan  Mainland China  1/23/20 17:00        5.0     NaN        NaN\n",
              " 12       Hong Kong       Hong Kong  1/23/20 17:00        2.0     NaN        NaN\n",
              " 13           Hubei  Mainland China  1/23/20 17:00      444.0    17.0       28.0\n",
              " 14           Hunan  Mainland China  1/23/20 17:00        9.0     NaN        NaN\n",
              " 15  Inner Mongolia  Mainland China  1/23/20 17:00        NaN     NaN        NaN\n",
              " 16         Jiangsu  Mainland China  1/23/20 17:00        5.0     NaN        NaN\n",
              " 17         Jiangxi  Mainland China  1/23/20 17:00        7.0     NaN        NaN\n",
              " 18           Jilin  Mainland China  1/23/20 17:00        1.0     NaN        NaN\n",
              " 19        Liaoning  Mainland China  1/23/20 17:00        3.0     NaN        NaN\n",
              " 20           Macau           Macau  1/23/20 17:00        2.0     NaN        NaN\n",
              " 21         Ningxia  Mainland China  1/23/20 17:00        1.0     NaN        NaN\n",
              " 22         Qinghai  Mainland China  1/23/20 17:00        NaN     NaN        NaN\n",
              " 23         Shaanxi  Mainland China  1/23/20 17:00        3.0     NaN        NaN\n",
              " 24        Shandong  Mainland China  1/23/20 17:00        6.0     NaN        NaN\n",
              " 25        Shanghai  Mainland China  1/23/20 17:00       16.0     NaN        NaN\n",
              " 26          Shanxi  Mainland China  1/23/20 17:00        1.0     NaN        NaN\n",
              " 27         Sichuan  Mainland China  1/23/20 17:00        8.0     NaN        NaN\n",
              " 28          Taiwan          Taiwan  1/23/20 17:00        1.0     NaN        NaN\n",
              " 29         Tianjin  Mainland China  1/23/20 17:00        4.0     NaN        NaN\n",
              " 30           Tibet  Mainland China  1/23/20 17:00        NaN     NaN        NaN\n",
              " 31      Washington              US  1/23/20 17:00        1.0     NaN        NaN\n",
              " 32        Xinjiang  Mainland China  1/23/20 17:00        2.0     NaN        NaN\n",
              " 33          Yunnan  Mainland China  1/23/20 17:00        2.0     NaN        NaN\n",
              " 34        Zhejiang  Mainland China  1/23/20 17:00       27.0     NaN        NaN\n",
              " 35             NaN           Japan  1/23/20 17:00        1.0     NaN        NaN\n",
              " 36             NaN        Thailand  1/23/20 17:00        3.0     NaN        NaN\n",
              " 37             NaN     South Korea  1/23/20 17:00        1.0     NaN        NaN\n",
              " 38             NaN       Singapore  1/23/20 17:00        1.0     NaN        NaN\n",
              " 39             NaN     Philippines  1/23/20 17:00        NaN     NaN        NaN\n",
              " 40             NaN        Malaysia  1/23/20 17:00        NaN     NaN        NaN\n",
              " 41             NaN         Vietnam  1/23/20 17:00        2.0     NaN        NaN\n",
              " 42             NaN       Australia  1/23/20 17:00        NaN     NaN        NaN\n",
              " 43             NaN          Mexico  1/23/20 17:00        NaN     NaN        NaN\n",
              " 44             NaN          Brazil  1/23/20 17:00        NaN     NaN        NaN\n",
              " 45             NaN        Colombia  1/23/20 17:00        NaN     NaN        NaN,\n",
              "     Province/State  Country/Region    Last Update  Confirmed  Deaths  Recovered\n",
              " 0            Hubei  Mainland China  1/24/20 17:00      549.0    24.0       31.0\n",
              " 1        Guangdong  Mainland China  1/24/20 17:00       53.0     NaN        2.0\n",
              " 2         Zhejiang  Mainland China  1/24/20 17:00       43.0     NaN        1.0\n",
              " 3          Beijing  Mainland China  1/24/20 17:00       36.0     NaN        1.0\n",
              " 4        Chongqing  Mainland China  1/24/20 17:00       27.0     NaN        NaN\n",
              " 5            Hunan  Mainland China  1/24/20 17:00       24.0     NaN        NaN\n",
              " 6          Guangxi  Mainland China  1/24/20 17:00       23.0     NaN        NaN\n",
              " 7         Shanghai  Mainland China  1/24/20 17:00       20.0     NaN        1.0\n",
              " 8          Jiangxi  Mainland China  1/24/20 17:00       18.0     NaN        NaN\n",
              " 9          Sichuan  Mainland China  1/24/20 17:00       15.0     NaN        NaN\n",
              " 10        Shandong  Mainland China  1/24/20 17:00       15.0     NaN        NaN\n",
              " 11           Anhui  Mainland China  1/24/20 17:00       15.0     NaN        NaN\n",
              " 12          Fujian  Mainland China  1/24/20 17:00       10.0     NaN        NaN\n",
              " 13           Henan  Mainland China  1/24/20 17:00        9.0     NaN        NaN\n",
              " 14         Jiangsu  Mainland China  1/24/20 17:00        9.0     NaN        NaN\n",
              " 15          Hainan  Mainland China  1/24/20 17:00        8.0     NaN        NaN\n",
              " 16         Tianjin  Mainland China  1/24/20 17:00        8.0     NaN        NaN\n",
              " 17          Yunnan  Mainland China  1/24/20 17:00        5.0     NaN        NaN\n",
              " 18         Shaanxi  Mainland China  1/24/20 17:00        5.0     NaN        NaN\n",
              " 19    Heilongjiang  Mainland China  1/24/20 17:00        4.0     1.0        NaN\n",
              " 20        Liaoning  Mainland China  1/24/20 17:00        4.0     NaN        NaN\n",
              " 21         Guizhou  Mainland China  1/24/20 17:00        3.0     NaN        NaN\n",
              " 22           Jilin  Mainland China  1/24/20 17:00        3.0     NaN        NaN\n",
              " 23          Taiwan          Taiwan  1/24/20 17:00        3.0     NaN        NaN\n",
              " 24         Ningxia  Mainland China  1/24/20 17:00        2.0     NaN        NaN\n",
              " 25       Hong Kong       Hong Kong  1/24/20 17:00        2.0     NaN        NaN\n",
              " 26           Macau           Macau  1/24/20 17:00        2.0     NaN        NaN\n",
              " 27           Hebei  Mainland China  1/24/20 17:00        2.0     1.0        NaN\n",
              " 28           Gansu  Mainland China  1/24/20 17:00        2.0     NaN        NaN\n",
              " 29        Xinjiang  Mainland China  1/24/20 17:00        2.0     NaN        NaN\n",
              " 30          Shanxi  Mainland China  1/24/20 17:00        1.0     NaN        NaN\n",
              " 31  Inner Mongolia  Mainland China  1/24/20 17:00        1.0     NaN        NaN\n",
              " 32         Qinghai  Mainland China  1/24/20 17:00        NaN     NaN        NaN\n",
              " 33      Washington              US  1/24/20 17:00        1.0     NaN        NaN\n",
              " 34         Chicago              US  1/24/20 17:00        1.0     NaN        NaN\n",
              " 35             NaN           Japan  1/24/20 17:00        2.0     NaN        NaN\n",
              " 36             NaN        Thailand  1/24/20 17:00        5.0     NaN        NaN\n",
              " 37             NaN     South Korea  1/24/20 17:00        2.0     NaN        NaN\n",
              " 38             NaN       Singapore  1/24/20 17:00        3.0     NaN        NaN\n",
              " 39             NaN         Vietnam  1/24/20 17:00        2.0     NaN        NaN\n",
              " 40             NaN          France  1/24/20 17:00        2.0     NaN        NaN)"
            ]
          },
          "metadata": {
            "tags": []
          },
          "execution_count": 567
        }
      ]
    },
    {
      "cell_type": "markdown",
      "metadata": {
        "id": "98JJHSgbSUI2"
      },
      "source": [
        "**Question 6**: Develop an algorithm that identifies when COVID infections started in each region. Create a time ordered list of regions and countries of when COVID started.\n"
      ]
    },
    {
      "cell_type": "code",
      "metadata": {
        "id": "usgqVch8TRZa",
        "colab": {
          "base_uri": "https://localhost:8080/"
        },
        "outputId": "e3b9bb80-a376-4d2a-d8b5-0120f227628a"
      },
      "source": [
        "a = df[df.columns[12:19]]\n",
        "b = np.min(df[df.columns[12:19]])\n",
        "print(a,b)"
      ],
      "execution_count": 568,
      "outputs": [
        {
          "output_type": "stream",
          "text": [
            "              Last Update                        Regions  ... recovered  active\n",
            "0     2020-05-24 02:32:43  Abbeville, South Carolina, US  ...       0.0    35.0\n",
            "1     2020-05-24 02:32:43          Acadia, Louisiana, US  ...       0.0   274.0\n",
            "2     2020-05-24 02:32:43         Accomack, Virginia, US  ...       0.0   711.0\n",
            "3     2020-05-24 02:32:43                 Ada, Idaho, US  ...       0.0   771.0\n",
            "4     2020-05-24 02:32:43                Adair, Iowa, US  ...       0.0     7.0\n",
            "...                   ...                            ...  ...       ...     ...\n",
            "3401  2020-05-24 02:32:43                        Vietnam  ...     267.0    58.0\n",
            "3402  2020-05-24 02:32:43             West Bank and Gaza  ...     348.0    72.0\n",
            "3403  2020-05-24 02:32:43                          Yemen  ...      11.0   162.0\n",
            "3404  2020-05-24 02:32:43                         Zambia  ...     336.0   577.0\n",
            "3405                    0                              0  ...       NaN     NaN\n",
            "\n",
            "[3406 rows x 7 columns] confirmed         0.0\n",
            "deaths            0.0\n",
            "recovered         0.0\n",
            "active      -328397.0\n",
            "dtype: float64\n"
          ],
          "name": "stdout"
        }
      ]
    },
    {
      "cell_type": "markdown",
      "metadata": {
        "id": "91wLXiLoSUI2"
      },
      "source": [
        "**Question 7**: Develop an algorithm that identifies peaks in COVID infections. Use the algorithm to create lists of regions ordered by when peaks occured. Create ordered lists for regions for the first and second wave."
      ]
    },
    {
      "cell_type": "code",
      "metadata": {
        "id": "NTNDy7e-SUI2"
      },
      "source": [
        "# same as 6 but much more difficult in that after its sorted, now you should apply\n",
        "# an algorithm to help identify the peaks in the infections, which will then be used \n",
        "# and modified to determine when the first and second waves hit each region and in\n",
        "# order they hit.\n",
        "\n",
        "# this one is the least important question"
      ],
      "execution_count": 569,
      "outputs": []
    },
    {
      "cell_type": "code",
      "metadata": {
        "id": "GTx8uzxtVCdv",
        "colab": {
          "base_uri": "https://localhost:8080/"
        },
        "outputId": "7a0170c5-f83f-4354-fe3c-add87e4300db"
      },
      "source": [
        "a = df[df.columns[12:19]]\n",
        "b = np.max(df[df.columns[15:16]])\n",
        "print(a,b)"
      ],
      "execution_count": 570,
      "outputs": [
        {
          "output_type": "stream",
          "text": [
            "              Last Update                        Regions  ... recovered  active\n",
            "0     2020-05-24 02:32:43  Abbeville, South Carolina, US  ...       0.0    35.0\n",
            "1     2020-05-24 02:32:43          Acadia, Louisiana, US  ...       0.0   274.0\n",
            "2     2020-05-24 02:32:43         Accomack, Virginia, US  ...       0.0   711.0\n",
            "3     2020-05-24 02:32:43                 Ada, Idaho, US  ...       0.0   771.0\n",
            "4     2020-05-24 02:32:43                Adair, Iowa, US  ...       0.0     7.0\n",
            "...                   ...                            ...  ...       ...     ...\n",
            "3401  2020-05-24 02:32:43                        Vietnam  ...     267.0    58.0\n",
            "3402  2020-05-24 02:32:43             West Bank and Gaza  ...     348.0    72.0\n",
            "3403  2020-05-24 02:32:43                          Yemen  ...      11.0   162.0\n",
            "3404  2020-05-24 02:32:43                         Zambia  ...     336.0   577.0\n",
            "3405                    0                              0  ...       NaN     NaN\n",
            "\n",
            "[3406 rows x 7 columns] confirmed    335882.0\n",
            "dtype: float64\n"
          ],
          "name": "stdout"
        }
      ]
    }
  ]
}